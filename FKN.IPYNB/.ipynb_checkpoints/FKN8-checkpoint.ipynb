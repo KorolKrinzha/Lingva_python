{
 "cells": [
  {
   "cell_type": "code",
   "execution_count": 10,
   "metadata": {},
   "outputs": [],
   "source": [
    "import numpy as np\n",
    "import pandas as pd\n",
    "import matplotlib.pyplot as plt\n",
    "import math"
   ]
  },
  {
   "cell_type": "markdown",
   "metadata": {},
   "source": [
    "# Задание\n",
    "Для каждого столбца определите:\n",
    "1. Тип случайной величины: дискретный или непрерывной\n",
    "2. Математические ожидание и стандартное отклонение\n",
    "3. Закон распределения\n",
    "    - Один из \"базовых\": равномерный (укажите границы), нормальный, экспоненциальный (укажите параметр). \n",
    "    - Если не \"базовый\", то опишите, как он устроен.\n",
    "4. Напишите код соответствующей функции распределения и постройте ее график на гистограмме (кроме случая, когда распределение будет степенью равномерного)\n",
    "\n"
   ]
  },
  {
   "cell_type": "code",
   "execution_count": 51,
   "metadata": {},
   "outputs": [
    {
     "data": {
      "text/html": [
       "<div>\n",
       "<style scoped>\n",
       "    .dataframe tbody tr th:only-of-type {\n",
       "        vertical-align: middle;\n",
       "    }\n",
       "\n",
       "    .dataframe tbody tr th {\n",
       "        vertical-align: top;\n",
       "    }\n",
       "\n",
       "    .dataframe thead th {\n",
       "        text-align: right;\n",
       "    }\n",
       "</style>\n",
       "<table border=\"1\" class=\"dataframe\">\n",
       "  <thead>\n",
       "    <tr style=\"text-align: right;\">\n",
       "      <th></th>\n",
       "      <th>A</th>\n",
       "      <th>B</th>\n",
       "      <th>C</th>\n",
       "      <th>D</th>\n",
       "      <th>E</th>\n",
       "      <th>F</th>\n",
       "      <th>G</th>\n",
       "      <th>H</th>\n",
       "    </tr>\n",
       "  </thead>\n",
       "  <tbody>\n",
       "    <tr>\n",
       "      <th>0</th>\n",
       "      <td>0.184991</td>\n",
       "      <td>22.0</td>\n",
       "      <td>-4.625716</td>\n",
       "      <td>17.255305</td>\n",
       "      <td>11.0</td>\n",
       "      <td>13.265427</td>\n",
       "      <td>20.001886</td>\n",
       "      <td>-10.471446</td>\n",
       "    </tr>\n",
       "    <tr>\n",
       "      <th>1</th>\n",
       "      <td>0.698571</td>\n",
       "      <td>18.0</td>\n",
       "      <td>9.288892</td>\n",
       "      <td>0.489566</td>\n",
       "      <td>8.0</td>\n",
       "      <td>16.622351</td>\n",
       "      <td>17.088835</td>\n",
       "      <td>-6.989298</td>\n",
       "    </tr>\n",
       "    <tr>\n",
       "      <th>2</th>\n",
       "      <td>0.237253</td>\n",
       "      <td>15.0</td>\n",
       "      <td>-6.931038</td>\n",
       "      <td>22.539956</td>\n",
       "      <td>-25.0</td>\n",
       "      <td>13.745858</td>\n",
       "      <td>18.492333</td>\n",
       "      <td>-2.557853</td>\n",
       "    </tr>\n",
       "    <tr>\n",
       "      <th>3</th>\n",
       "      <td>0.121425</td>\n",
       "      <td>11.0</td>\n",
       "      <td>-4.913668</td>\n",
       "      <td>21.857483</td>\n",
       "      <td>7.0</td>\n",
       "      <td>17.262570</td>\n",
       "      <td>20.049104</td>\n",
       "      <td>13.294186</td>\n",
       "    </tr>\n",
       "    <tr>\n",
       "      <th>4</th>\n",
       "      <td>0.024468</td>\n",
       "      <td>24.0</td>\n",
       "      <td>-11.186423</td>\n",
       "      <td>-13.824692</td>\n",
       "      <td>-5.0</td>\n",
       "      <td>-21.040107</td>\n",
       "      <td>16.969543</td>\n",
       "      <td>-0.885408</td>\n",
       "    </tr>\n",
       "  </tbody>\n",
       "</table>\n",
       "</div>"
      ],
      "text/plain": [
       "          A     B          C          D     E          F          G          H\n",
       "0  0.184991  22.0  -4.625716  17.255305  11.0  13.265427  20.001886 -10.471446\n",
       "1  0.698571  18.0   9.288892   0.489566   8.0  16.622351  17.088835  -6.989298\n",
       "2  0.237253  15.0  -6.931038  22.539956 -25.0  13.745858  18.492333  -2.557853\n",
       "3  0.121425  11.0  -4.913668  21.857483   7.0  17.262570  20.049104  13.294186\n",
       "4  0.024468  24.0 -11.186423 -13.824692  -5.0 -21.040107  16.969543  -0.885408"
      ]
     },
     "execution_count": 51,
     "metadata": {},
     "output_type": "execute_result"
    }
   ],
   "source": [
    "data = pd.read_csv('53.csv') \n",
    "data.head()"
   ]
  },
  {
   "cell_type": "code",
   "execution_count": 14,
   "metadata": {},
   "outputs": [
    {
     "name": "stdout",
     "output_type": "stream",
     "text": [
      "<class 'pandas.core.frame.DataFrame'>\n",
      "RangeIndex: 10000 entries, 0 to 9999\n",
      "Data columns (total 8 columns):\n",
      " #   Column  Non-Null Count  Dtype  \n",
      "---  ------  --------------  -----  \n",
      " 0   A       10000 non-null  float64\n",
      " 1   B       10000 non-null  float64\n",
      " 2   C       10000 non-null  float64\n",
      " 3   D       10000 non-null  float64\n",
      " 4   E       10000 non-null  float64\n",
      " 5   F       10000 non-null  float64\n",
      " 6   G       10000 non-null  float64\n",
      " 7   H       10000 non-null  float64\n",
      "dtypes: float64(8)\n",
      "memory usage: 625.1 KB\n"
     ]
    }
   ],
   "source": [
    "n = len(data) # Количесвто строк в таблице\n",
    "sqr_n = int(n**0.5) #Корень из n, будем использовать для построения гистограмм\n",
    "data.info()"
   ]
  },
  {
   "cell_type": "markdown",
   "metadata": {},
   "source": [
    "# Столбец A"
   ]
  },
  {
   "cell_type": "code",
   "execution_count": 101,
   "metadata": {},
   "outputs": [
    {
     "name": "stdout",
     "output_type": "stream",
     "text": [
      "[0.1849912070682325, 0.6985710808786694, 0.2372530645926152, 0.1214250051707405, 0.0244684961180534, 0.0302969305959024, 0.3603887866092202, 0.046087373475654, 0.2905818264893575, 0.1439967491912777, 0.5428159000790297, 1.6907723112290776, 0.9875548205712704, 0.2978174929138459, 0.1090068675174129, 0.4941446534907328, 0.274017629650527, 0.1126601525870925, 0.5926630923308973, 0.0811747401458862]\n"
     ]
    },
    {
     "data": {
      "image/png": "[encoded data removed]",
      "text/plain": [
       "<Figure size 432x288 with 1 Axes>"
      ]
     },
     "metadata": {
      "needs_background": "light"
     },
     "output_type": "display_data"
    }
   ],
   "source": [
    "print(list(data['A'])[:20])\n",
    "plt.hist(data['A'], density=True , bins=sqr_n); "
   ]
  },
  {
   "cell_type": "code",
   "execution_count": 102,
   "metadata": {},
   "outputs": [
    {
     "name": "stdout",
     "output_type": "stream",
     "text": [
      "Непрерывная случайная величина\n",
      "Экспоненциальный закон распределения\n",
      "Математическое ожидание: 0.3403741034544597\n",
      "Стандартное отклонение: 0.3443826414389639\n",
      "Минимальное значение: 6.832352888272984e-05\n",
      "Максимальное значение: 3.2569343997103446\n"
     ]
    }
   ],
   "source": [
    "print(\"Непрерывная случайная величина\")\n",
    "print(\"Экспоненциальный закон распределения\")\n",
    "print('Математическое ожидание:', np.mean(data['A']))\n",
    "print('Стандартное отклонение:', np.std(data['A']))\n",
    "print('Минимальное значение:', np.min(data['A']))\n",
    "print('Максимальное значение:', np.max(data['A']))"
   ]
  },
  {
   "cell_type": "code",
   "execution_count": 103,
   "metadata": {},
   "outputs": [
    {
     "name": "stdout",
     "output_type": "stream",
     "text": [
      "[0.1849912070682325, 0.6985710808786694, 0.2372530645926152, 0.1214250051707405, 0.0244684961180534, 0.0302969305959024, 0.3603887866092202, 0.046087373475654, 0.2905818264893575, 0.1439967491912777, 0.5428159000790297, 1.6907723112290776, 0.9875548205712704, 0.2978174929138459, 0.1090068675174129, 0.4941446534907328, 0.274017629650527, 0.1126601525870925, 0.5926630923308973, 0.0811747401458862]\n"
     ]
    },
    {
     "data": {
      "text/plain": [
       "[<matplotlib.lines.Line2D at 0x17aeac94748>]"
      ]
     },
     "execution_count": 103,
     "metadata": {},
     "output_type": "execute_result"
    },
    {
     "data": {
      "image/png": "[encoded data removed]",
      "text/plain": [
       "<Figure size 432x288 with 1 Axes>"
      ]
     },
     "metadata": {
      "needs_background": "light"
     },
     "output_type": "display_data"
    }
   ],
   "source": [
    "def my_fun_A(X, lambd):\n",
    "    return lambd*np.exp(-lambd*X)\n",
    "\n",
    "\n",
    "X = np.linspace(0,3.25,num=500)\n",
    "lambd = 3\n",
    "\n",
    "print(list(data['A'])[:20])\n",
    "plt.hist(data['A'], density=True , bins=sqr_n)\n",
    "plt.plot(X,my_fun_A(X,lambd),color='r')"
   ]
  },
  {
   "cell_type": "markdown",
   "metadata": {},
   "source": [
    "# Столбец B"
   ]
  },
  {
   "cell_type": "code",
   "execution_count": 104,
   "metadata": {},
   "outputs": [
    {
     "name": "stdout",
     "output_type": "stream",
     "text": [
      "[22.0, 18.0, 15.0, 11.0, 24.0, 17.0, 9.0, 12.0, 15.0, 19.0, 9.0, 17.0, 12.0, 20.0, 18.0, 22.0, 16.0, 24.0, 21.0, 22.0]\n"
     ]
    },
    {
     "data": {
      "image/png": "[encoded data removed]",
      "text/plain": [
       "<Figure size 432x288 with 1 Axes>"
      ]
     },
     "metadata": {
      "needs_background": "light"
     },
     "output_type": "display_data"
    }
   ],
   "source": [
    "print(list(data['B'])[:20])\n",
    "plt.hist(data['B'], density=True, bins=sqr_n); # Строим гистограмму"
   ]
  },
  {
   "cell_type": "code",
   "execution_count": 105,
   "metadata": {},
   "outputs": [
    {
     "name": "stdout",
     "output_type": "stream",
     "text": [
      "Дискретная случайная величина\n",
      "Равномерное распределение\n",
      "Количество разных значений: 19\n",
      "Математическое ожидание: 14.9153\n",
      "Стандартное отклонение: 5.530689460636892\n",
      "Минимальное значение: 6.0\n",
      "Максимальное значение: 24.0\n",
      "[-35.69365249 -35.68145726 -35.10310436 ...  30.31618573  31.0566944\n",
      "  31.72967345]\n"
     ]
    }
   ],
   "source": [
    "print(\"Дискретная случайная величина\")\n",
    "print('Равномерное распределение')\n",
    "print('Количество разных значений:', len(np.unique(data['B'])))\n",
    "print('Математическое ожидание:', np.mean(data['B']))\n",
    "print('Стандартное отклонение:', np.std(data['B']))\n",
    "print('Минимальное значение:', np.min(data['B']))\n",
    "print('Максимальное значение:', np.max(data['B']))\n",
    "print(np.unique(data['C']))"
   ]
  },
  {
   "cell_type": "code",
   "execution_count": 106,
   "metadata": {},
   "outputs": [
    {
     "data": {
      "text/plain": [
       "[<matplotlib.lines.Line2D at 0x17aeae3fdc8>]"
      ]
     },
     "execution_count": 106,
     "metadata": {},
     "output_type": "execute_result"
    },
    {
     "data": {
      "image/png": "[encoded data removed]",
      "text/plain": [
       "<Figure size 432x288 with 1 Axes>"
      ]
     },
     "metadata": {
      "needs_background": "light"
     },
     "output_type": "display_data"
    }
   ],
   "source": [
    "def my_fun_B(x):\n",
    "    if np.min(np.unique(data['B'])) <= x <= np.max(np.unique(data['B'])): \n",
    "        return 1/(np.max(np.unique(data['B']))-np.min(np.unique(data['B'])))\n",
    "    else:\n",
    "        return 0\n",
    "\n",
    "plt.hist(data['B'], density=True, bins=len(np.unique(data['B']))) #другое количество корзин (количество уникальных элементов)\n",
    "X = np.linspace(5,25)\n",
    "Y = [my_fun_B(x) for x in X]\n",
    "plt.plot(X, Y)"
   ]
  },
  {
   "cell_type": "markdown",
   "metadata": {},
   "source": [
    "# Столбец C"
   ]
  },
  {
   "cell_type": "code",
   "execution_count": 107,
   "metadata": {},
   "outputs": [
    {
     "name": "stdout",
     "output_type": "stream",
     "text": [
      "[-4.625716128651591, 9.28889206379479, -6.931038150601678, -4.913667730768193, -11.186422913037402, -2.276440371031685, -7.435072029597526, -11.776411230579312, -26.877000829406835, -6.205590899142379, -1.1191154125032616, -16.35054072641223, -23.132653663860737, -9.4700802196151, 4.08649871890846, -7.654906844583156, 0.2470129931332536, -0.3325162837935336, 1.060167179533523, -24.66288011387301]\n"
     ]
    },
    {
     "data": {
      "image/png": "[encoded data removed]",
      "text/plain": [
       "<Figure size 432x288 with 1 Axes>"
      ]
     },
     "metadata": {
      "needs_background": "light"
     },
     "output_type": "display_data"
    }
   ],
   "source": [
    "print(list(data['C'])[:20])\n",
    "plt.hist(data['C'], density=True, bins=sqr_n); # Строим гистограмму"
   ]
  },
  {
   "cell_type": "code",
   "execution_count": 108,
   "metadata": {},
   "outputs": [
    {
     "name": "stdout",
     "output_type": "stream",
     "text": [
      "Математическое ожидание: -4.4519563198024015\n",
      "Стандартное отклонение: 8.719073609646534\n",
      "Минимальное значение: -35.69365248772653\n",
      "Максимальное значение: 31.729673454238764\n",
      "Непрерывная случайная величина\n",
      "Нормальный закон распределения\n"
     ]
    }
   ],
   "source": [
    "print('Математическое ожидание:', np.mean(data['C']))\n",
    "print('Стандартное отклонение:', np.std(data['C']))\n",
    "print('Минимальное значение:', np.min(data['C']))\n",
    "print('Максимальное значение:', np.max(data['C']))\n",
    "print('Непрерывная случайная величина')\n",
    "print('Нормальный закон распределения')"
   ]
  },
  {
   "cell_type": "code",
   "execution_count": 109,
   "metadata": {},
   "outputs": [
    {
     "data": {
      "text/plain": [
       "[<matplotlib.lines.Line2D at 0x17aeaf33708>]"
      ]
     },
     "execution_count": 109,
     "metadata": {},
     "output_type": "execute_result"
    },
    {
     "data": {
      "image/png": "[encoded data removed]",
      "text/plain": [
       "<Figure size 432x288 with 1 Axes>"
      ]
     },
     "metadata": {
      "needs_background": "light"
     },
     "output_type": "display_data"
    }
   ],
   "source": [
    "def my_fun_C(x):\n",
    "    mu = -4.45\n",
    "    sigma = 8.71\n",
    "    k = 1/(sigma*(2*math.pi)**0.5)\n",
    "    a = -0.5*((x-mu)/sigma)**2\n",
    "    return k*math.exp(a)\n",
    "\n",
    "#Строим гистограму и функцию\n",
    "X = np.linspace(-35,31)\n",
    "Y = [my_fun_C(x) for x in X]\n",
    "plt.hist(data['C'], density=True, bins=sqr_n);\n",
    "plt.plot(X,Y)"
   ]
  },
  {
   "cell_type": "markdown",
   "metadata": {},
   "source": [
    "# Столбец D"
   ]
  },
  {
   "cell_type": "code",
   "execution_count": 110,
   "metadata": {},
   "outputs": [
    {
     "name": "stdout",
     "output_type": "stream",
     "text": [
      "[17.25530478824996, 0.4895658702436662, 22.539956448224096, 21.85748323944325, -13.8246920715808, -22.564734469210617, -10.682431460022888, 19.352466710007903, 19.629562066362745, -17.881450710527425, -16.05365166245396, -12.144256489019966, -9.389849010285229, 22.69598458050525, -11.357232555398951, 20.853413471102535, -24.69134990551796, -6.287414600145503, 26.33739722264569, -19.01711160197017]\n"
     ]
    },
    {
     "data": {
      "image/png": "[encoded data removed]",
      "text/plain": [
       "<Figure size 432x288 with 1 Axes>"
      ]
     },
     "metadata": {
      "needs_background": "light"
     },
     "output_type": "display_data"
    }
   ],
   "source": [
    "print(list(data['D'])[:20])\n",
    "plt.hist(data['D'], density=True, bins=sqr_n); # Строим гистограмму"
   ]
  },
  {
   "cell_type": "code",
   "execution_count": 111,
   "metadata": {},
   "outputs": [
    {
     "name": "stdout",
     "output_type": "stream",
     "text": [
      "Математическое ожидание: 2.670502582151819\n",
      "Стандартное отклонение: 19.25446359461466\n",
      "Минимальное значение: -44.32430151730948\n",
      "Максимальное значение: 39.84453457806129\n",
      "Непрерывная случайная величина\n",
      "Нормальный закон распределения\n"
     ]
    }
   ],
   "source": [
    "print('Математическое ожидание:', np.mean(data['D']))\n",
    "print('Стандартное отклонение:', np.std(data['D']))\n",
    "print('Минимальное значение:', np.min(data['D']))\n",
    "print('Максимальное значение:', np.max(data['D']))\n",
    "print('Непрерывная случайная величина')\n",
    "print('Двумодальное распределение, созданное из двух нормальных распределений')"
   ]
  },
  {
   "cell_type": "code",
   "execution_count": 124,
   "metadata": {},
   "outputs": [
    {
     "data": {
      "image/png": "[encoded data removed]",
      "text/plain": [
       "<Figure size 432x288 with 1 Axes>"
      ]
     },
     "metadata": {
      "needs_background": "light"
     },
     "output_type": "display_data"
    },
    {
     "data": {
      "image/png": "[encoded data removed]",
      "text/plain": [
       "<Figure size 432x288 with 1 Axes>"
      ]
     },
     "metadata": {
      "needs_background": "light"
     },
     "output_type": "display_data"
    }
   ],
   "source": [
    "hist1 = []\n",
    "hist2 = []\n",
    "\n",
    "\n",
    "for i in data['D']:\n",
    "    if i < 0:\n",
    "        hist1.append(i)\n",
    "    else:\n",
    "        hist2.append(i)\n",
    "        \n",
    "plt.hist(hist1, density=True, bins=sqr_n)\n",
    "plt.show()\n",
    "plt.hist(hist2, density=True, bins=sqr_n)\n",
    "plt.show()"
   ]
  },
  {
   "cell_type": "markdown",
   "metadata": {},
   "source": [
    "# Столбец E"
   ]
  },
  {
   "cell_type": "code",
   "execution_count": 112,
   "metadata": {},
   "outputs": [
    {
     "name": "stdout",
     "output_type": "stream",
     "text": [
      "[11.0, 8.0, -25.0, 7.0, -5.0, -11.0, 6.0, 15.0, 11.0, -32.0, 8.0, 0.0, 4.0, -16.0, 15.0, 5.0, 13.0, 11.0, -9.0, -12.0]\n"
     ]
    },
    {
     "data": {
      "image/png": "[encoded data removed]",
      "text/plain": [
       "<Figure size 432x288 with 1 Axes>"
      ]
     },
     "metadata": {
      "needs_background": "light"
     },
     "output_type": "display_data"
    }
   ],
   "source": [
    "unique_values_E = len(np.unique(data['E']))\n",
    "print(list(data['E'])[:20])\n",
    "plt.hist(data['E'], density=True, bins=unique_values_E); # Строим гистограмму"
   ]
  },
  {
   "cell_type": "code",
   "execution_count": 113,
   "metadata": {},
   "outputs": [
    {
     "name": "stdout",
     "output_type": "stream",
     "text": [
      "Дискретное случайная величина\n",
      "Нормальное распределение\n",
      "Математическое ожидание: 2.5296\n",
      "Стандартное отклонение: 17.385365220207486\n",
      "Минимальное значение: -58.0\n",
      "Максимальное значение: 78.0\n",
      "[-58. -57. -56. -55. -54. -53. -52. -50. -49. -48. -47. -46. -45. -44.\n",
      " -43. -42. -41. -40. -39. -38. -37. -36. -35. -34. -33. -32. -31. -30.\n",
      " -29. -28. -27. -26. -25. -24. -23. -22. -21. -20. -19. -18. -17. -16.\n",
      " -15. -14. -13. -12. -11. -10.  -9.  -8.  -7.  -6.  -5.  -4.  -3.  -2.\n",
      "  -1.   0.   1.   2.   3.   4.   5.   6.   7.   8.   9.  10.  11.  12.\n",
      "  13.  14.  15.  16.  17.  18.  19.  20.  21.  22.  23.  24.  25.  26.\n",
      "  27.  28.  29.  30.  31.  32.  33.  34.  35.  36.  37.  38.  39.  40.\n",
      "  41.  42.  43.  44.  45.  46.  47.  48.  49.  50.  51.  52.  53.  54.\n",
      "  55.  56.  57.  58.  60.  62.  63.  66.  78.]\n"
     ]
    }
   ],
   "source": [
    "print(\"Дискретное случайная величина\")\n",
    "print(\"Нормальное распределение\")\n",
    "print('Математическое ожидание:', np.mean(data['E']))\n",
    "print('Стандартное отклонение:', np.std(data['E']))\n",
    "print('Минимальное значение:', np.min(data['E']))\n",
    "print('Максимальное значение:', np.max(data['E']))\n",
    "print(np.unique(data['E']))"
   ]
  },
  {
   "cell_type": "code",
   "execution_count": 114,
   "metadata": {},
   "outputs": [
    {
     "data": {
      "text/plain": [
       "[<matplotlib.lines.Line2D at 0x17aec50e0c8>]"
      ]
     },
     "execution_count": 114,
     "metadata": {},
     "output_type": "execute_result"
    },
    {
     "data": {
      "image/png": "[encoded data removed]",
      "text/plain": [
       "<Figure size 432x288 with 1 Axes>"
      ]
     },
     "metadata": {
      "needs_background": "light"
     },
     "output_type": "display_data"
    }
   ],
   "source": [
    "def my_fun_E(x):\n",
    "    mu = 2.5296\n",
    "    sigma = 17.385365220207486\n",
    "    k = 1/(sigma*(2*math.pi)**0.5)\n",
    "    a = -0.5*((x-mu)/sigma)**2\n",
    "    return k*math.exp(a)\n",
    "\n",
    "X = np.linspace(-100,100)\n",
    "Y = [my_fun_E(x) for x in X]\n",
    "plt.hist(data['E'], density=True, bins=np.unique(data['E'])) #кол-во корзин равно кол-ву уникальных элементов)\n",
    "plt.plot(X, Y)"
   ]
  },
  {
   "cell_type": "markdown",
   "metadata": {},
   "source": [
    "# Столбец F"
   ]
  },
  {
   "cell_type": "code",
   "execution_count": 115,
   "metadata": {},
   "outputs": [
    {
     "name": "stdout",
     "output_type": "stream",
     "text": [
      "[13.265427291397698, 16.62235132777824, 13.745858163740497, 17.262569501796058, -21.04010668859713, -13.521883819181674, 10.07348557017239, -7.901793833351324, 16.00389961174388, -15.212036209128044, 19.9560056560569, -8.048901951908402, -8.878560234894788, 19.647625623503483, 9.666353918551971, 21.19735818472529, 17.950236946605365, 13.443095363029755, -13.041375774422333, 16.089139391573696]\n"
     ]
    },
    {
     "data": {
      "image/png": "[encoded data removed]",
      "text/plain": [
       "<Figure size 432x288 with 1 Axes>"
      ]
     },
     "metadata": {
      "needs_background": "light"
     },
     "output_type": "display_data"
    }
   ],
   "source": [
    "print(list(data['F'])[:20])\n",
    "plt.hist(data['F'], density=True, bins=sqr_n); #Строим гистограмму, но пока не ясно, что это такое"
   ]
  },
  {
   "cell_type": "code",
   "execution_count": 116,
   "metadata": {},
   "outputs": [
    {
     "name": "stdout",
     "output_type": "stream",
     "text": [
      "Равномерное распределение\n",
      "Непрерывная случайная величина\n",
      "Математическое ожидание: 7.245144974207382\n",
      "Стандартное отклонение: 14.055804581142187\n",
      "Минимальное значение: -24.98197496841185\n",
      "Максимальное значение: 21.998591826227937\n"
     ]
    }
   ],
   "source": [
    "print(\"Равномерное распределение\")\n",
    "print('Непрерывная случайная величина')\n",
    "print('Математическое ожидание:', np.mean(data['F']))\n",
    "print('Стандартное отклонение:', np.std(data['F']))\n",
    "print('Минимальное значение:', np.min(data['F']))\n",
    "print('Максимальное значение:', np.max(data['F']))"
   ]
  },
  {
   "cell_type": "code",
   "execution_count": 117,
   "metadata": {},
   "outputs": [
    {
     "data": {
      "image/png": "[encoded data removed]",
      "text/plain": [
       "<Figure size 432x288 with 1 Axes>"
      ]
     },
     "metadata": {
      "needs_background": "light"
     },
     "output_type": "display_data"
    },
    {
     "data": {
      "image/png": "[encoded data removed]",
      "text/plain": [
       "<Figure size 432x288 with 1 Axes>"
      ]
     },
     "metadata": {
      "needs_background": "light"
     },
     "output_type": "display_data"
    }
   ],
   "source": [
    "hist1 = []\n",
    "hist2 = []\n",
    "\n",
    "\n",
    "for i in data['F']:\n",
    "    if i < 0:\n",
    "        hist1.append(i)\n",
    "    else:\n",
    "        hist2.append(i)\n",
    "        \n",
    "plt.hist(hist1, density=True, bins=sqr_n)\n",
    "plt.show()\n",
    "plt.hist(hist2, density=True, bins=sqr_n)\n",
    "plt.show()"
   ]
  },
  {
   "cell_type": "markdown",
   "metadata": {},
   "source": [
    "# Столбец G"
   ]
  },
  {
   "cell_type": "code",
   "execution_count": 118,
   "metadata": {},
   "outputs": [
    {
     "name": "stdout",
     "output_type": "stream",
     "text": [
      "[20.00188611196113, 17.088834963733316, 18.492332805349797, 20.04910418789953, 16.969543117290332, 18.272909643365107, 15.931020195189037, 15.432772875333889, 20.89165522279918, 14.557725102737455, 20.41018759650461, 17.4485004567883, 18.86643214382601, 14.23377784752818, 17.99841012173166, 19.991019104999225, 15.863660106630206, 14.142691450111624, 19.22663767511966, 17.675193498951106]\n"
     ]
    },
    {
     "data": {
      "image/png": "[encoded data removed]",
      "text/plain": [
       "<Figure size 432x288 with 1 Axes>"
      ]
     },
     "metadata": {
      "needs_background": "light"
     },
     "output_type": "display_data"
    }
   ],
   "source": [
    "print(list(data['G'])[:20])\n",
    "plt.hist(data['G'], density=True, bins=sqr_n); # Строим гистограмму"
   ]
  },
  {
   "cell_type": "code",
   "execution_count": 119,
   "metadata": {},
   "outputs": [
    {
     "name": "stdout",
     "output_type": "stream",
     "text": [
      "Непрерывная случайная величина\n",
      "Равномерное распределение\n",
      "Математическое ожидание: 17.350107736851918\n",
      "Стандартное отклонение: 2.081913829224483\n",
      "Минимальное значение: 13.72558536681174\n",
      "Максимальное значение: 20.934764443449694\n"
     ]
    }
   ],
   "source": [
    "print(\"Непрерывная случайная величина\")\n",
    "print(\"Равномерное распределение\")\n",
    "print('Математическое ожидание:', np.mean(data['G']))\n",
    "print('Стандартное отклонение:', np.std(data['G']))\n",
    "print('Минимальное значение:', np.min(data['G']))\n",
    "print('Максимальное значение:', np.max(data['G']))"
   ]
  },
  {
   "cell_type": "code",
   "execution_count": 120,
   "metadata": {},
   "outputs": [
    {
     "data": {
      "text/plain": [
       "[<matplotlib.lines.Line2D at 0x17aecd4b788>]"
      ]
     },
     "execution_count": 120,
     "metadata": {},
     "output_type": "execute_result"
    },
    {
     "data": {
      "image/png": "[encoded data removed]",
      "text/plain": [
       "<Figure size 432x288 with 1 Axes>"
      ]
     },
     "metadata": {
      "needs_background": "light"
     },
     "output_type": "display_data"
    }
   ],
   "source": [
    "def my_fun_G(x):\n",
    "    if np.min(data['G']) <= x <= np.max(data['G']): return 1/(np.max(data['G'])-np.min(data['G']))\n",
    "    else: return 0\n",
    "    \n",
    "X = np.linspace(13,22)\n",
    "Y = [my_fun_G(x) for x in X]\n",
    "plt.hist(data['G'], density=True, bins=60)\n",
    "plt.plot(X, Y)"
   ]
  },
  {
   "cell_type": "markdown",
   "metadata": {},
   "source": [
    "# Столбец H"
   ]
  },
  {
   "cell_type": "code",
   "execution_count": 121,
   "metadata": {},
   "outputs": [
    {
     "name": "stdout",
     "output_type": "stream",
     "text": [
      "[-10.471446375388638, -6.989298077742807, -2.557852753606344, 13.29418635153655, -0.8854076807578739, -3.197090864788577, 12.54408836441993, 9.824241201569988, -4.845163903448687, 5.197221970022953, 6.74848204902503, 2.152434075268971, 0.5846533275557473, 8.500160511046284, 6.785307719121638, -10.048797497569142, 7.315756488812367, 4.773756906157912, 10.737345106087568, -1.288573277749807]\n"
     ]
    },
    {
     "data": {
      "image/png": "[encoded data removed]",
      "text/plain": [
       "<Figure size 432x288 with 1 Axes>"
      ]
     },
     "metadata": {
      "needs_background": "light"
     },
     "output_type": "display_data"
    }
   ],
   "source": [
    "print(list(data['H'])[:20])\n",
    "plt.hist(data['H'], density=True, bins=sqr_n); # Строим гистограмму"
   ]
  },
  {
   "cell_type": "code",
   "execution_count": 122,
   "metadata": {},
   "outputs": [
    {
     "name": "stdout",
     "output_type": "stream",
     "text": [
      "Количество разных значений: 10000\n",
      "Математическое ожидание: 2.014779187656691\n",
      "Стандартное отклонение: 7.526812292630432\n",
      "Минимальное значение: -10.987612590262543\n",
      "Максимальное значение: 15.01449259352742\n"
     ]
    }
   ],
   "source": [
    "#Находим разные характеристики\n",
    "\n",
    "print('Количество разных значений:', len(np.unique(data['H'])))\n",
    "print('Математическое ожидание:', np.mean(data['H']))\n",
    "print('Стандартное отклонение:', np.std(data['H']))\n",
    "print('Минимальное значение:', np.min(data['H']))\n",
    "print('Максимальное значение:', np.max(data['H']))"
   ]
  },
  {
   "cell_type": "code",
   "execution_count": 123,
   "metadata": {},
   "outputs": [
    {
     "data": {
      "text/plain": [
       "[<matplotlib.lines.Line2D at 0x17aecbd0048>]"
      ]
     },
     "execution_count": 123,
     "metadata": {},
     "output_type": "execute_result"
    },
    {
     "data": {
      "image/png": "[encoded data removed]",
      "text/plain": [
       "<Figure size 432x288 with 1 Axes>"
      ]
     },
     "metadata": {
      "needs_background": "light"
     },
     "output_type": "display_data"
    }
   ],
   "source": [
    "def my_fun_H(x):\n",
    "    if np.min(data['H']) <= x <= np.max(data['H']): return 1/(np.max(data['H'])-np.min(data['H']))\n",
    "    else: return 0\n",
    "    \n",
    "\n",
    "X = np.linspace(-11,16)\n",
    "Y = [my_fun_H(x) for x in X]\n",
    "plt.hist(data['H'], density=True, bins=60)\n",
    "plt.plot(X, Y)"
   ]
  },
  {
   "cell_type": "code",
   "execution_count": null,
   "metadata": {},
   "outputs": [],
   "source": []
  },
  {
   "cell_type": "code",
   "execution_count": null,
   "metadata": {},
   "outputs": [],
   "source": []
  }
 ],
 "metadata": {
  "kernelspec": {
   "display_name": "Python 3",
   "language": "python",
   "name": "python3"
  },
  "language_info": {
   "codemirror_mode": {
    "name": "ipython",
    "version": 3
   },
   "file_extension": ".py",
   "mimetype": "text/x-python",
   "name": "python",
   "nbconvert_exporter": "python",
   "pygments_lexer": "ipython3",
   "version": "3.7.4"
  }
 },
 "nbformat": 4,
 "nbformat_minor": 4
}
