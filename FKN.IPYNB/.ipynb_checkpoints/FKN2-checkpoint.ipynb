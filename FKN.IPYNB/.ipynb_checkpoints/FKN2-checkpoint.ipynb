{
 "cells": [
  {
   "cell_type": "markdown",
   "metadata": {},
   "source": [
    "# Линейная алгебра. Системы линейных уравнений#\n"
   ]
  },
  {
   "cell_type": "markdown",
   "metadata": {},
   "source": [
    "## Умножение матриц"
   ]
  },
  {
   "cell_type": "markdown",
   "metadata": {
    "hide_input": false
   },
   "source": [
    "Визуализация умножения матриц: http://matrixmultiplication.xyz/"
   ]
  },
  {
   "cell_type": "markdown",
   "metadata": {},
   "source": [
    "## Обратная матрица"
   ]
  },
  {
   "cell_type": "markdown",
   "metadata": {},
   "source": [
    "Матрица $E_n$ размера $n \\times n$ вида \n",
    "$$\n",
    "E_n = \\begin{pmatrix}\n",
    "1 & 0 & 0 & \\dots & 0 & 0 \\\\\n",
    "0 & 1 & 0 & \\dots & 0 & 0 \\\\\n",
    "0 & 0 & 1 & \\dots & 0 & 0 \\\\\n",
    "\\vdots & \\vdots & \\vdots & \\ddots & \\vdots & \\vdots\\\\\n",
    "0 & 0 & 0 & \\dots & 1 & 0 \\\\\n",
    "0 & 0 & 0 & \\dots & 0 & 1 \\\\\n",
    "\\end{pmatrix}\n",
    "$$\n",
    "называется единичной. \n",
    "Матрица $B$ (размера $n \\times n$) называется обратной к матрице $A$ (размера $n \\times n$), если \n",
    "$$\n",
    "A \\cdot B = B \\cdot A = E_n\n",
    "$$"
   ]
  },
  {
   "cell_type": "code",
   "execution_count": 8,
   "metadata": {},
   "outputs": [
    {
     "name": "stdout",
     "output_type": "stream",
     "text": [
      "[[ 2.   -1.    0.  ]\n",
      " [-2.    1.    0.5 ]\n",
      " [ 0.5   0.   -0.25]]\n",
      "[[1. 0. 0.]\n",
      " [0. 1. 0.]\n",
      " [0. 0. 1.]]\n"
     ]
    }
   ],
   "source": [
    "import numpy as np\n",
    "\n",
    "A = np.array([\n",
    "    [1,1,2],\n",
    "    [1,2,4],\n",
    "    [2,2,0]\n",
    "])\n",
    "B = np.linalg.inv(A)\n",
    "np.set_printoptions(suppress=True) #Не печатать числа в виде 1.11022302e-16\n",
    "print(B)\n",
    "C = A.dot(B)\n",
    "print(C)"
   ]
  },
  {
   "cell_type": "markdown",
   "metadata": {},
   "source": [
    "## Определитель матрицы "
   ]
  },
  {
   "cell_type": "markdown",
   "metadata": {},
   "source": [
    "Определителем квадратной матрицы $A$ размера $n \\times n$ называется некоторое число, которое рассчитывается по всем элементам матрицы. На данном занятии нам не так важно, как конкретно это число надо находить. Достаточно лишь знать, что:\n",
    "\n",
    "1) У всякой квадратной матрицы можно найти определитель - конкретное число.\n",
    "\n",
    "2) Определитель можно найти при помощи np.linalg.det(A)"
   ]
  },
  {
   "cell_type": "code",
   "execution_count": 9,
   "metadata": {},
   "outputs": [
    {
     "name": "stdout",
     "output_type": "stream",
     "text": [
      "1.0 1.0\n"
     ]
    }
   ],
   "source": [
    "import numpy as np\n",
    "\n",
    "A =  np.array([\n",
    "    [1,0],\n",
    "    [0,1]\n",
    "])\n",
    "print(np.linalg.det(A), np.linalg.det(np.linalg.inv(A))) # Определители исходной и обратной матрицы"
   ]
  },
  {
   "cell_type": "code",
   "execution_count": 10,
   "metadata": {},
   "outputs": [
    {
     "name": "stdout",
     "output_type": "stream",
     "text": [
      "2.0 0.5\n"
     ]
    }
   ],
   "source": [
    "A =  np.array([\n",
    "    [1,1],\n",
    "    [0,2]\n",
    "])\n",
    "print(np.linalg.det(A), np.linalg.det(np.linalg.inv(A))) # Определители исходной и обратной матрицы"
   ]
  },
  {
   "cell_type": "code",
   "execution_count": 11,
   "metadata": {},
   "outputs": [
    {
     "name": "stdout",
     "output_type": "stream",
     "text": [
      "0.5 2.0\n"
     ]
    }
   ],
   "source": [
    "A =  np.array([\n",
    "    [1,1],\n",
    "    [0.5,1]\n",
    "])\n",
    "print(np.linalg.det(A), np.linalg.det(np.linalg.inv(A))) # Определители исходной и обратной матрицы"
   ]
  },
  {
   "cell_type": "code",
   "execution_count": 50,
   "metadata": {},
   "outputs": [
    {
     "name": "stdout",
     "output_type": "stream",
     "text": [
      "10.000000000000002 0.09999999999999998\n"
     ]
    }
   ],
   "source": [
    "A =  np.array([\n",
    "    [2,-2],\n",
    "    [3,2]\n",
    "])\n",
    "print(np.linalg.det(A), np.linalg.det(np.linalg.inv(A))) # Определители исходной и обратной матрицы"
   ]
  },
  {
   "cell_type": "markdown",
   "metadata": {},
   "source": [
    "## Задание 1"
   ]
  },
  {
   "cell_type": "markdown",
   "metadata": {},
   "source": [
    "1) Как связаны определитель исходной и обратной матрицы?\n",
    "\n",
    " a -определитель исходной матрицы\n",
    " b - определитель обратной матрицы\n",
    " \n",
    " b= a**-1\n",
    " \n",
    " a* a**-1 ====> #это я так следовательно обозначил \n",
    " \n",
    " a* b = 1\n",
    "\n",
    "2) Сформулируйте критерий, когда обратная матрица существует в зависимости от значения ее определителя?\n",
    "\n",
    " Если определитель матрицы является нулем, то такой матрицы не существует. Отличие от нуля определителя квадратной матрицы является единственным условием существования обратной матрицы"
   ]
  },
  {
   "cell_type": "markdown",
   "metadata": {},
   "source": [
    "## Построение прямой по двум точкам"
   ]
  },
  {
   "cell_type": "markdown",
   "metadata": {},
   "source": [
    "Необходимо найти уравнение прямой вида \n",
    "$$\n",
    "y = kx + l,\n",
    "$$\n",
    "\n",
    "которая проходит через две заданные точки $P_1=(x_1, y_1)$ и $P_2=(x_2, y_2)$.\n",
    "\n",
    "Решаем систему уравнений вида:\n",
    "$$\n",
    "\\left\\{\n",
    "\\begin{matrix}\n",
    "kx_1 + l = y_1 \\\\\n",
    "kx_2 + l = y_2\n",
    "\\end{matrix}\n",
    "\\right.\n",
    "$$\n",
    "\n",
    "или в матричном виде:\n",
    "\n",
    "$$\n",
    "\\begin{pmatrix}\n",
    "x_1 & 1 \\\\\n",
    "x_2 & 1\n",
    "\\end{pmatrix}\n",
    "\\begin{pmatrix}\n",
    "k \\\\\n",
    "l\n",
    "\\end{pmatrix}\n",
    "=\n",
    "\\begin{pmatrix}\n",
    "y_1 \\\\\n",
    "y_2\n",
    "\\end{pmatrix}\n",
    "$$\n",
    "\n",
    "Тогда решение можно найти в виде:\n",
    "$$\n",
    "\\begin{pmatrix}\n",
    "k \\\\\n",
    "l\n",
    "\\end{pmatrix}\n",
    "=\n",
    "\\begin{pmatrix}\n",
    "x_1 & 1 \\\\\n",
    "x_2 & 1\n",
    "\\end{pmatrix}^{-1}\n",
    "\\begin{pmatrix}\n",
    "y_1 \\\\\n",
    "y_2\n",
    "\\end{pmatrix}\n",
    "$$"
   ]
  },
  {
   "cell_type": "code",
   "execution_count": 32,
   "metadata": {},
   "outputs": [
    {
     "name": "stdout",
     "output_type": "stream",
     "text": [
      "[[ 2.  1.]\n",
      " [-2.  1.]]\n",
      "[0 4]\n",
      "[-1.  2.]\n"
     ]
    },
    {
     "data": {
      "image/png": "[encoded data removed]",
      "text/plain": [
       "<Figure size 432x288 with 1 Axes>"
      ]
     },
     "metadata": {
      "needs_background": "light"
     },
     "output_type": "display_data"
    }
   ],
   "source": [
    "import numpy as np\n",
    "import matplotlib.pyplot as plt\n",
    "\n",
    "def line_by_points(P1, P2):\n",
    "    X = np.array([P1[0],P2[0]])\n",
    "    Y = np.array([P1[1],P2[1]])\n",
    "    A = np.vstack([X, np.ones(2)]).T # Склейка матриц\n",
    "    print(A, Y, sep = '\\n')\n",
    "    \n",
    "    K = np.linalg.solve(A,Y) \n",
    "    #K = np.linalg.inv(A).dot(Y) # В явном виде через обрантую матрицу\n",
    "    # Замечание: Формально Y в обоих вариантах должен быть столбцом, а не строкой, но функции и так работают правильно.\n",
    "    \n",
    "    return K\n",
    "\n",
    "P1 = [2,0]\n",
    "P2 = [-2,4]\n",
    "K = line_by_points(P1,P2)\n",
    "print(K)\n",
    "x = np.linspace(-5,5) # Множество значений от -5 до +5 (с шагом 50 по умолчанию)\n",
    "y = K[0]*x + K[1]\n",
    "plt.plot(x,y) # Строим график прямой\n",
    "# plt.plot(x,y ) # Строим график прямой, соединяя точки\n",
    "plt.plot(*P1,'ro') # Рисуем красную (r) точку (o)\n",
    "plt.plot(*P2,'go') # Рисуем зеленую (g) точку (o)\n",
    "plt.axis([-5, 5, -5, 5]) # Устанавливаем масштабы осей\n",
    "plt.grid(True) # Отображаем сетку"
   ]
  },
  {
   "cell_type": "markdown",
   "metadata": {},
   "source": [
    "## Задание 2\n"
   ]
  },
  {
   "cell_type": "markdown",
   "metadata": {},
   "source": [
    "Для трех точек $P_1=(x_1, y_1)$, $P_2=(x_2, y_2)$ и $P_3=(x_3, y_3)$ постройте и нарисуйте прямые, которые проходят через каждую пару точек. Известно, что все $y_i$ различны."
   ]
  },
  {
   "cell_type": "code",
   "execution_count": 42,
   "metadata": {},
   "outputs": [
    {
     "name": "stdout",
     "output_type": "stream",
     "text": [
      "[[2. 1.]\n",
      " [5. 1.]]\n",
      "[0 7]\n",
      "[[ 5.  1.]\n",
      " [-3.  1.]]\n",
      "[7 6]\n",
      "[[ 2.  1.]\n",
      " [-3.  1.]]\n",
      "[0 6]\n"
     ]
    },
    {
     "data": {
      "text/plain": [
       "[<matplotlib.lines.Line2D at 0x183f64b0e08>]"
      ]
     },
     "execution_count": 42,
     "metadata": {},
     "output_type": "execute_result"
    },
    {
     "data": {
      "image/png": "[encoded data removed]",
      "text/plain": [
       "<Figure size 432x288 with 1 Axes>"
      ]
     },
     "metadata": {
      "needs_background": "light"
     },
     "output_type": "display_data"
    }
   ],
   "source": [
    "#Прямая проходит через две точки, у нас две пары, получается, всего надо построить 3x2 = 6 прямых\n",
    "\n",
    "#обозначаем рандомные  точки\n",
    "\n",
    "p1 = [2,0]\n",
    "P2 = [1,4]\n",
    "p3 = [-3, 6]\n",
    "x = np.linspace(-5,5)\n",
    "\n",
    "\n",
    "\n",
    "K1 = line_by_points(p1,p2)\n",
    "K2 = line_by_points(p2,p3)\n",
    "K3 = line_by_points(p1,p3)\n",
    "\n",
    "\n",
    "x = np.linspace(-5,5) # Множество значений от -5 до +5 (с шагом 50 по умолчанию)\n",
    "y1 = K1[0]*x + K1[1]\n",
    "y2 = K2[0]*x + K2[1]\n",
    "y3 = K3[0]*x + K3[1]\n",
    "\n",
    "\n",
    "\n",
    "plt.plot(*p1,'ro')\n",
    "plt.plot(*p2,'go')\n",
    "plt.plot(*p3,'yo')\n",
    "\n",
    "plt.plot(x,y1)\n",
    "plt.plot(x,y2)\n",
    "plt.plot(x,y3)\n"
   ]
  },
  {
   "cell_type": "markdown",
   "metadata": {},
   "source": [
    "## Точка пересечения прямых"
   ]
  },
  {
   "cell_type": "markdown",
   "metadata": {},
   "source": [
    "Для двух прямых $y = k_1x + l_1$ и $y = k_2x + l_2$ необходимо найти точку их пересечения, т.е. решить систему \n",
    "$$\n",
    "\\left\\{\n",
    "\\begin{matrix}\n",
    "k_1x - y =  -l_1\\\\\n",
    "k_2x - y = -l_2\n",
    "\\end{matrix}\n",
    "\\right.\n",
    "$$\n",
    "Запишем в матричном виде:\n",
    "$$\n",
    "\\begin{pmatrix}\n",
    "k_1 & -1 \\\\\n",
    "k_2 & -1 \n",
    "\\end{pmatrix}\n",
    "\\begin{pmatrix}\n",
    "x \\\\\n",
    "y\n",
    "\\end{pmatrix}\n",
    "=\n",
    "\\begin{pmatrix}\n",
    "-l_1 \\\\\n",
    "-l_2\n",
    "\\end{pmatrix}\n",
    "$$\n",
    "Тогда решением будет:\n",
    "$$\n",
    "\\begin{pmatrix}\n",
    "x \\\\\n",
    "y\n",
    "\\end{pmatrix}\n",
    "=\n",
    "\\begin{pmatrix}\n",
    "k_1 & -1 \\\\\n",
    "k_2 & -1 \n",
    "\\end{pmatrix} ^{-1}\n",
    "\\begin{pmatrix}\n",
    "-l_1 \\\\\n",
    "-l_2\n",
    "\\end{pmatrix}\n",
    "$$"
   ]
  },
  {
   "cell_type": "code",
   "execution_count": 43,
   "metadata": {},
   "outputs": [
    {
     "name": "stdout",
     "output_type": "stream",
     "text": [
      "[0.66666667 0.33333333]\n"
     ]
    },
    {
     "data": {
      "image/png": "[encoded data removed]",
      "text/plain": [
       "<Figure size 432x288 with 1 Axes>"
      ]
     },
     "metadata": {
      "needs_background": "light"
     },
     "output_type": "display_data"
    }
   ],
   "source": [
    "import numpy as np\n",
    "import matplotlib.pyplot as plt\n",
    "\n",
    "def point_by_lines(R1, R2):\n",
    "    K = np.array([R1[0],R2[0]])\n",
    "    L = np.array([R1[1],R2[1]])\n",
    "    A = np.vstack([K,-np.ones(2)]).T\n",
    "    D = np.linalg.solve(A,-L)\n",
    "    return D\n",
    "\n",
    "    \n",
    "R1 = [2,-1] # y = 2x - 1\n",
    "R2 = [-1,1] # y = -x + 1\n",
    "\n",
    "\n",
    "x = np.linspace(-5,5)\n",
    "plt.plot(x,R1[0]*x + R1[1]);\n",
    "plt.plot(x,R2[0]*x + R2[1]);\n",
    "\n",
    "D  = point_by_lines(R1, R2)\n",
    "print(D)\n",
    "plt.plot(*D,'ro')\n",
    "\n",
    "plt.axis([-5, 5, -5, 5]);\n",
    "plt.grid(True)\n"
   ]
  },
  {
   "cell_type": "markdown",
   "metadata": {},
   "source": [
    "## Задание 3"
   ]
  },
  {
   "cell_type": "markdown",
   "metadata": {},
   "source": [
    "Для трех прямых $y = k_1x + l_1$, $y = k_2x + l_2$ и $y = k_3x + l_3$ необходимо найти все точки их пересечения, нарисовать прямые и точки. Известно, что прямые любые две прямые не параллельны"
   ]
  },
  {
   "cell_type": "code",
   "execution_count": 49,
   "metadata": {},
   "outputs": [
    {
     "data": {
      "image/png": "[encoded data removed]",
      "text/plain": [
       "<Figure size 432x288 with 1 Axes>"
      ]
     },
     "metadata": {
      "needs_background": "light"
     },
     "output_type": "display_data"
    }
   ],
   "source": [
    "   \n",
    "R1 = [4,4] # y = 4x + 4\n",
    "R2 = [-1,6] # y = -x + 6\n",
    "R3 = [1, 2] # y = 3x + 8 \n",
    "\n",
    "\n",
    "x = np.linspace(-5,5)\n",
    "plt.plot(x,R1[0]*x + R1[1])\n",
    "plt.plot(x,R2[0]*x + R2[1])\n",
    "plt.plot(x,R3[0]*x + R3[1])\n",
    "\n",
    "D1  = point_by_lines(R1, R2)\n",
    "D2  = point_by_lines(R2, R3)\n",
    "D3  = point_by_lines(R1, R3)\n",
    "\n",
    "plt.plot(*D1,'ro')#не видна, но она есть, поверьте\n",
    "plt.plot(*D2,'ro')\n",
    "plt.plot(*D3,'ro')\n",
    "\n",
    "plt.axis([-5, 5, -5, 5]);\n",
    "plt.grid(True)\n"
   ]
  },
  {
   "cell_type": "markdown",
   "metadata": {},
   "source": [
    "## Исследование семейства линейных уравнений"
   ]
  },
  {
   "cell_type": "markdown",
   "metadata": {},
   "source": [
    "Рассмотрим семейство систем линейных уравнений при $3 \\leq n \\leq 30$\n",
    "$$\n",
    "\\left\\{\\begin{matrix}\n",
    "x_1 + x_2 = 1 \\\\\n",
    "x_2 + x_3 = 2 \\\\\n",
    "... \\\\\n",
    "x_{n-1} + x_{n} = n-1 \\\\\n",
    "x_{n} + x_{1} = n \\\\\n",
    "\\end{matrix}\\right.\n",
    "$$"
   ]
  },
  {
   "cell_type": "markdown",
   "metadata": {},
   "source": [
    "## Задание 4"
   ]
  },
  {
   "cell_type": "markdown",
   "metadata": {},
   "source": [
    "1. Определите, при каких $n$ ($3 \\leq n \\leq 30$) данная система имеет решение. Указание: Если правая часть системы ненулевая, \n",
    "    т.е. не состоит из одних 0 (как в данном случае), то система имеет решение тогда и только тогда, \n",
    "    когда определитель матрицы не равен нулю.\n",
    "2. Для максимального $n$, при котором система имеет решение, найдите решение и отобразите их на плоском графике как множество точек $(i, x_i)$\n",
    "3. Проанализируйте график и запишите множество решений в виде явной формулы."
   ]
  },
  {
   "cell_type": "code",
   "execution_count": 51,
   "metadata": {},
   "outputs": [
    {
     "data": {
      "text/plain": [
       "array([1, 2, 3])"
      ]
     },
     "execution_count": 51,
     "metadata": {},
     "output_type": "execute_result"
    }
   ],
   "source": [
    "n = 3\n",
    "lim = 30\n",
    "A = np.zeros((n,n))  #массив из нулей\n",
    "B = np.array(range(1,n+1))\n",
    "for i in range(n, lim+1):\n",
    "    pass # Заполнить матрцу А\n",
    "# ¯\\_(ツ)_/¯\n"
   ]
  },
  {
   "cell_type": "markdown",
   "metadata": {},
   "source": [
    "1. Система имеет решение при $n$ - ...\n",
    "2. Максимальное значение $n$ ($3 \\leq n \\leq 30$), при котором система имеет решение равно ...\n",
    "\n",
    "Данное решение имеет вид:\n",
    "$$\n",
    "x_i = \n",
    "\\left\\{\\begin{matrix}\n",
    "..., \\mbox{ если $i$ - ... } \\\\\n",
    "..., \\mbox{ если $i$ - ...} \n",
    "\\end{matrix}\n",
    "\\right.\n",
    "$$"
   ]
  },
  {
   "cell_type": "markdown",
   "metadata": {},
   "source": [
    "## Задание 5"
   ]
  },
  {
   "cell_type": "markdown",
   "metadata": {},
   "source": [
    "Проведите аналогичное исследование для семейства систем линейных уравнений при $3 \\leq n \\leq 30$\n",
    "$$\n",
    "\\left\\{\\begin{matrix}\n",
    "x_1 + x_2 + x_3= 1 \\\\\n",
    "x_2 + x_3 + x_4= 2 \\\\\n",
    "... \\\\\n",
    "x_{n-2} + x_{n-1} + x_{n}= n-2 \\\\\n",
    "x_{n-1} + x_{n} + x_{1}= n-1 \\\\\n",
    "x_{n} + x_{1} + x_{2}= n \\\\\n",
    "\\end{matrix}\\right.\n",
    "$$"
   ]
  },
  {
   "cell_type": "markdown",
   "metadata": {},
   "source": [
    "\n"
   ]
  }
 ],
 "metadata": {
  "kernelspec": {
   "display_name": "Python 3",
   "language": "python",
   "name": "python3"
  },
  "language_info": {
   "codemirror_mode": {
    "name": "ipython",
    "version": 3
   },
   "file_extension": ".py",
   "mimetype": "text/x-python",
   "name": "python",
   "nbconvert_exporter": "python",
   "pygments_lexer": "ipython3",
   "version": "3.7.4"
  }
 },
 "nbformat": 4,
 "nbformat_minor": 2
}
