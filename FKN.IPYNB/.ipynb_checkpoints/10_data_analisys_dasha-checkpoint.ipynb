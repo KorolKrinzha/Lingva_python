{
 "cells": [
  {
   "cell_type": "code",
   "execution_count": 2,
   "metadata": {},
   "outputs": [],
   "source": [
    "import numpy as np\n",
    "import pandas as pd\n",
    "import matplotlib.pyplot as plt\n",
    "import math"
   ]
  },
  {
   "cell_type": "markdown",
   "metadata": {},
   "source": [
    "# Задание\n",
    "Для каждого столбца определите:\n",
    "1. Тип случайной величины: дискретный или непрерывной\n",
    "2. Математические ожидание и стандартное отклонение\n",
    "3. Закон распределения\n",
    "    - Один из \"базовых\": равномерный (укажите границы), нормальный, экспоненциальный (укажите параметр). \n",
    "    - Если не \"базовый\", то опишите, как он устроен.\n",
    "4. Напишите код соответствующей функции распределения и постройте ее график на гистограмме (кроме случая, когда распределение будет степенью равномерного)\n",
    "\n"
   ]
  },
  {
   "cell_type": "code",
   "execution_count": 3,
   "metadata": {},
   "outputs": [
    {
     "data": {
      "text/html": [
       "<div>\n",
       "<style scoped>\n",
       "    .dataframe tbody tr th:only-of-type {\n",
       "        vertical-align: middle;\n",
       "    }\n",
       "\n",
       "    .dataframe tbody tr th {\n",
       "        vertical-align: top;\n",
       "    }\n",
       "\n",
       "    .dataframe thead th {\n",
       "        text-align: right;\n",
       "    }\n",
       "</style>\n",
       "<table border=\"1\" class=\"dataframe\">\n",
       "  <thead>\n",
       "    <tr style=\"text-align: right;\">\n",
       "      <th></th>\n",
       "      <th>A</th>\n",
       "      <th>B</th>\n",
       "      <th>C</th>\n",
       "      <th>D</th>\n",
       "      <th>E</th>\n",
       "      <th>F</th>\n",
       "      <th>G</th>\n",
       "      <th>H</th>\n",
       "    </tr>\n",
       "  </thead>\n",
       "  <tbody>\n",
       "    <tr>\n",
       "      <th>0</th>\n",
       "      <td>213.161587</td>\n",
       "      <td>1.110027</td>\n",
       "      <td>22.0</td>\n",
       "      <td>-12.787183</td>\n",
       "      <td>-23.384179</td>\n",
       "      <td>-6.625255</td>\n",
       "      <td>-4.0</td>\n",
       "      <td>0.117597</td>\n",
       "    </tr>\n",
       "    <tr>\n",
       "      <th>1</th>\n",
       "      <td>211.437626</td>\n",
       "      <td>1.449980</td>\n",
       "      <td>18.0</td>\n",
       "      <td>-14.079657</td>\n",
       "      <td>23.472625</td>\n",
       "      <td>-2.438134</td>\n",
       "      <td>3.0</td>\n",
       "      <td>0.164569</td>\n",
       "    </tr>\n",
       "    <tr>\n",
       "      <th>2</th>\n",
       "      <td>282.810999</td>\n",
       "      <td>-0.638132</td>\n",
       "      <td>8.0</td>\n",
       "      <td>24.647416</td>\n",
       "      <td>-13.659115</td>\n",
       "      <td>-2.971644</td>\n",
       "      <td>15.0</td>\n",
       "      <td>0.031276</td>\n",
       "    </tr>\n",
       "    <tr>\n",
       "      <th>3</th>\n",
       "      <td>208.883760</td>\n",
       "      <td>1.402673</td>\n",
       "      <td>5.0</td>\n",
       "      <td>29.541692</td>\n",
       "      <td>23.181582</td>\n",
       "      <td>-11.738497</td>\n",
       "      <td>17.0</td>\n",
       "      <td>0.026746</td>\n",
       "    </tr>\n",
       "    <tr>\n",
       "      <th>4</th>\n",
       "      <td>452.232575</td>\n",
       "      <td>1.530472</td>\n",
       "      <td>8.0</td>\n",
       "      <td>-13.336953</td>\n",
       "      <td>-12.330101</td>\n",
       "      <td>11.304302</td>\n",
       "      <td>17.0</td>\n",
       "      <td>0.028719</td>\n",
       "    </tr>\n",
       "  </tbody>\n",
       "</table>\n",
       "</div>"
      ],
      "text/plain": [
       "            A         B     C          D          E          F     G         H\n",
       "0  213.161587  1.110027  22.0 -12.787183 -23.384179  -6.625255  -4.0  0.117597\n",
       "1  211.437626  1.449980  18.0 -14.079657  23.472625  -2.438134   3.0  0.164569\n",
       "2  282.810999 -0.638132   8.0  24.647416 -13.659115  -2.971644  15.0  0.031276\n",
       "3  208.883760  1.402673   5.0  29.541692  23.181582 -11.738497  17.0  0.026746\n",
       "4  452.232575  1.530472   8.0 -13.336953 -12.330101  11.304302  17.0  0.028719"
      ]
     },
     "execution_count": 3,
     "metadata": {},
     "output_type": "execute_result"
    }
   ],
   "source": [
    "data = pd.read_csv('44.csv') #Тут укажите файл Вашего варианта\n",
    "data.head()"
   ]
  },
  {
   "cell_type": "code",
   "execution_count": 4,
   "metadata": {},
   "outputs": [
    {
     "name": "stdout",
     "output_type": "stream",
     "text": [
      "<class 'pandas.core.frame.DataFrame'>\n",
      "RangeIndex: 10000 entries, 0 to 9999\n",
      "Data columns (total 8 columns):\n",
      " #   Column  Non-Null Count  Dtype  \n",
      "---  ------  --------------  -----  \n",
      " 0   A       10000 non-null  float64\n",
      " 1   B       10000 non-null  float64\n",
      " 2   C       10000 non-null  float64\n",
      " 3   D       10000 non-null  float64\n",
      " 4   E       10000 non-null  float64\n",
      " 5   F       10000 non-null  float64\n",
      " 6   G       10000 non-null  float64\n",
      " 7   H       10000 non-null  float64\n",
      "dtypes: float64(8)\n",
      "memory usage: 625.1 KB\n"
     ]
    }
   ],
   "source": [
    "n = len(data) # Количесвто строк в таблице\n",
    "sqr_n = int(n**0.5) #Корень из n, будем использовать для построения гистограмм\n",
    "data.info()"
   ]
  },
  {
   "cell_type": "markdown",
   "metadata": {},
   "source": [
    "# Столбец A"
   ]
  },
  {
   "cell_type": "code",
   "execution_count": 5,
   "metadata": {},
   "outputs": [
    {
     "name": "stdout",
     "output_type": "stream",
     "text": [
      "[213.16158685137677, 211.43762626863295, 282.81099949121733, 208.8837602557571, 452.232574929533, 524.2595824534202, 254.9589125964306, 334.38980921199783, 492.7909675442013, 207.64882644793605, 293.0775684336251, 270.2567631318646, 256.2426692726307, 396.3251356019686, 244.07164218344823, 504.922011358242, 215.3477948308639, 374.5390577123253, 289.2934317972346, 442.5763754544995]\n"
     ]
    },
    {
     "data": {
      "text/plain": [
       "(array([0.00419256, 0.00386078, 0.00310672, 0.00395126, 0.00380045,\n",
       "        0.00410208, 0.00434337, 0.00395126, 0.00331786, 0.00361948,\n",
       "        0.00398143, 0.00383062, 0.00377029, 0.00337818, 0.00340834,\n",
       "        0.00401159, 0.00334802, 0.00374013, 0.00386078, 0.00374013,\n",
       "        0.00313688, 0.00301623, 0.0039211 , 0.00337818, 0.00328769,\n",
       "        0.00304639, 0.00334802, 0.00389094, 0.00310672, 0.00370997,\n",
       "        0.00334802, 0.00304639, 0.00325753, 0.00331786, 0.00289558,\n",
       "        0.00286542, 0.00319721, 0.00322737, 0.00259396, 0.00322737,\n",
       "        0.00337818, 0.00304639, 0.00313688, 0.00307656, 0.0028051 ,\n",
       "        0.00292575, 0.00310672, 0.00292575, 0.00262412, 0.00301623,\n",
       "        0.00229234, 0.00259396, 0.00295591, 0.00304639, 0.00268445,\n",
       "        0.00292575, 0.00253364, 0.00301623, 0.00289558, 0.00283526,\n",
       "        0.00268445, 0.00301623, 0.00316704, 0.0028051 , 0.00286542,\n",
       "        0.00271461, 0.00289558, 0.00295591, 0.00313688, 0.00310672,\n",
       "        0.00289558, 0.00271461, 0.00313688, 0.00241299, 0.00244315,\n",
       "        0.00241299, 0.00262412, 0.00238282, 0.00250347, 0.00247331,\n",
       "        0.00253364, 0.00193039, 0.0023225 , 0.0025638 , 0.00244315,\n",
       "        0.00253364, 0.00220185, 0.00262412, 0.00268445, 0.0023225 ,\n",
       "        0.00253364, 0.00247331, 0.0023225 , 0.00214152, 0.00265428,\n",
       "        0.00205104, 0.00226217, 0.00271461, 0.00253364, 0.00247331]),\n",
       " array([197.97086335, 201.28625778, 204.60165221, 207.91704664,\n",
       "        211.23244107, 214.5478355 , 217.86322993, 221.17862436,\n",
       "        224.49401879, 227.80941322, 231.12480765, 234.44020208,\n",
       "        237.75559651, 241.07099094, 244.38638537, 247.7017798 ,\n",
       "        251.01717423, 254.33256865, 257.64796308, 260.96335751,\n",
       "        264.27875194, 267.59414637, 270.9095408 , 274.22493523,\n",
       "        277.54032966, 280.85572409, 284.17111852, 287.48651295,\n",
       "        290.80190738, 294.11730181, 297.43269624, 300.74809067,\n",
       "        304.0634851 , 307.37887953, 310.69427396, 314.00966839,\n",
       "        317.32506282, 320.64045724, 323.95585167, 327.2712461 ,\n",
       "        330.58664053, 333.90203496, 337.21742939, 340.53282382,\n",
       "        343.84821825, 347.16361268, 350.47900711, 353.79440154,\n",
       "        357.10979597, 360.4251904 , 363.74058483, 367.05597926,\n",
       "        370.37137369, 373.68676812, 377.00216255, 380.31755698,\n",
       "        383.6329514 , 386.94834583, 390.26374026, 393.57913469,\n",
       "        396.89452912, 400.20992355, 403.52531798, 406.84071241,\n",
       "        410.15610684, 413.47150127, 416.7868957 , 420.10229013,\n",
       "        423.41768456, 426.73307899, 430.04847342, 433.36386785,\n",
       "        436.67926228, 439.99465671, 443.31005114, 446.62544557,\n",
       "        449.94083999, 453.25623442, 456.57162885, 459.88702328,\n",
       "        463.20241771, 466.51781214, 469.83320657, 473.148601  ,\n",
       "        476.46399543, 479.77938986, 483.09478429, 486.41017872,\n",
       "        489.72557315, 493.04096758, 496.35636201, 499.67175644,\n",
       "        502.98715087, 506.3025453 , 509.61793973, 512.93333415,\n",
       "        516.24872858, 519.56412301, 522.87951744, 526.19491187,\n",
       "        529.5103063 ]),\n",
       " <BarContainer object of 100 artists>)"
      ]
     },
     "execution_count": 5,
     "metadata": {},
     "output_type": "execute_result"
    },
    {
     "data": {
      "image/png": "[encoded data removed]",
      "text/plain": [
       "<Figure size 432x288 with 1 Axes>"
      ]
     },
     "metadata": {
      "needs_background": "light"
     },
     "output_type": "display_data"
    }
   ],
   "source": [
    "print(list(data['A'])[:20])\n",
    "plt.hist(data['A'], density=True , bins=sqr_n) # Строим гистограмму"
   ]
  },
  {
   "cell_type": "code",
   "execution_count": 67,
   "metadata": {},
   "outputs": [
    {
     "name": "stdout",
     "output_type": "stream",
     "text": [
      "Математическое ожидание: 349.24226764890153\n",
      "Стандартное отклонение: 95.60031589250829\n",
      "Минимальное значение: 197.9708633537296\n",
      "Максимальное значение: 529.5103063022767\n",
      "Непрерывная случайная величина\n",
      "Степень равномерного распределения (квадрат)\n"
     ]
    }
   ],
   "source": [
    "print('Математическое ожидание:', np.mean(data['A']))\n",
    "print('Стандартное отклонение:', np.std(data['A']))\n",
    "print('Минимальное значение:', np.min(data['A']))\n",
    "print('Максимальное значение:', np.max(data['A']))\n",
    "print('Непрерывная случайная величина')\n",
    "print('Степень равномерного распределения (квадрат)')"
   ]
  },
  {
   "cell_type": "code",
   "execution_count": 15,
   "metadata": {},
   "outputs": [
    {
     "data": {
      "text/plain": [
       "[<matplotlib.lines.Line2D at 0x187f2b1c490>]"
      ]
     },
     "execution_count": 15,
     "metadata": {},
     "output_type": "execute_result"
    },
    {
     "data": {
      "image/png": "[encoded data removed]",
      "text/plain": [
       "<Figure size 432x288 with 1 Axes>"
      ]
     },
     "metadata": {
      "needs_background": "light"
     },
     "output_type": "display_data"
    }
   ],
   "source": [
    "def my_fun_A(x):\n",
    "    if np.min(data['A']**(1/2)) <= x <= np.max(data['A']**(1/2)): return 1/(np.max(data['A']**(1/2))-np.min(data['A']**(1/2)))\n",
    "    else: return 0\n",
    "\n",
    "X = np.linspace(12,30)\n",
    "Y = [my_fun_A(x) for x in X]\n",
    "plt.hist(data['A']**(1/2), density=True , bins=sqr_n)\n",
    "plt.plot(X, Y)"
   ]
  },
  {
   "cell_type": "markdown",
   "metadata": {},
   "source": [
    "# Столбец B"
   ]
  },
  {
   "cell_type": "code",
   "execution_count": 16,
   "metadata": {},
   "outputs": [
    {
     "name": "stdout",
     "output_type": "stream",
     "text": [
      "[1.1100268338248478, 1.449979691918334, -0.6381324979385974, 1.4026733284009687, 1.530472483957539, 0.7087684697351844, 0.9204565650272688, 0.6039182998120577, 0.912783753286109, -0.8709483536314628, 0.375349668328089, -0.4327162099852297, 0.0992952877297925, 2.3404422101838414, 1.196352054835709, -0.5103859270513951, -0.4909793115255794, 0.1730869417830074, -0.1661589982886631, 2.004711991065792]\n"
     ]
    },
    {
     "data": {
      "image/png": "[encoded data removed]",
      "text/plain": [
       "<Figure size 432x288 with 1 Axes>"
      ]
     },
     "metadata": {
      "needs_background": "light"
     },
     "output_type": "display_data"
    }
   ],
   "source": [
    "print(list(data['B'])[:20])\n",
    "plt.hist(data['B'], density=True, bins=sqr_n); # Строим гистограмму"
   ]
  },
  {
   "cell_type": "code",
   "execution_count": 18,
   "metadata": {},
   "outputs": [
    {
     "name": "stdout",
     "output_type": "stream",
     "text": [
      "Математическое ожидание: 0.6022709511990552\n",
      "Стандартное отклонение: 1.5114181932282396\n",
      "Минимальное значение: -5.19463806757375\n",
      "Максимальное значение: 6.112644560790383\n",
      "Непрерывная случайная величина\n",
      "Нормальный закон распределения\n"
     ]
    }
   ],
   "source": [
    "print('Математическое ожидание:', np.mean(data['B']))\n",
    "print('Стандартное отклонение:', np.std(data['B']))\n",
    "print('Минимальное значение:', np.min(data['B']))\n",
    "print('Максимальное значение:', np.max(data['B']))\n",
    "print('Непрерывная случайная величина')\n",
    "print('Нормальный закон распределения')"
   ]
  },
  {
   "cell_type": "code",
   "execution_count": 19,
   "metadata": {},
   "outputs": [
    {
     "data": {
      "text/plain": [
       "[<matplotlib.lines.Line2D at 0x187f44d5220>]"
      ]
     },
     "execution_count": 19,
     "metadata": {},
     "output_type": "execute_result"
    },
    {
     "data": {
      "image/png": "[encoded data removed]",
      "text/plain": [
       "<Figure size 432x288 with 1 Axes>"
      ]
     },
     "metadata": {
      "needs_background": "light"
     },
     "output_type": "display_data"
    }
   ],
   "source": [
    "def my_fun_B(x):\n",
    "    mu = 0.6022709511990552\n",
    "    sigma = 1.5114181932282396\n",
    "    k = 1/(sigma*(2*math.pi)**0.5)\n",
    "    a = -0.5*((x-mu)/sigma)**2\n",
    "    return k*math.exp(a)\n",
    "\n",
    "#Строим гистограму и функцию\n",
    "X = np.linspace(-6,7)\n",
    "Y = [my_fun_B(x) for x in X]\n",
    "plt.hist(data['B'], density=True, bins=sqr_n);\n",
    "plt.plot(X,Y)"
   ]
  },
  {
   "cell_type": "markdown",
   "metadata": {},
   "source": [
    "# Столбец C"
   ]
  },
  {
   "cell_type": "code",
   "execution_count": 20,
   "metadata": {},
   "outputs": [
    {
     "name": "stdout",
     "output_type": "stream",
     "text": [
      "[22.0, 18.0, 8.0, 5.0, 8.0, 20.0, 15.0, 8.0, 12.0, 8.0, 8.0, 11.0, 18.0, 9.0, 6.0, 19.0, 12.0, 9.0, 5.0, 15.0]\n"
     ]
    },
    {
     "data": {
      "image/png": "[encoded data removed]",
      "text/plain": [
       "<Figure size 432x288 with 1 Axes>"
      ]
     },
     "metadata": {
      "needs_background": "light"
     },
     "output_type": "display_data"
    }
   ],
   "source": [
    "print(list(data['C'])[:20])\n",
    "plt.hist(data['C'], density=True, bins=sqr_n); # Строим гистограмму"
   ]
  },
  {
   "cell_type": "code",
   "execution_count": 21,
   "metadata": {},
   "outputs": [
    {
     "name": "stdout",
     "output_type": "stream",
     "text": [
      "Дискретная случайная величина\n",
      "Равномерное распределение\n",
      "Количество разных значений: 18\n",
      "Математическое ожидание: 13.4817\n",
      "Стандартное отклонение: 5.175834725916197\n",
      "Минимальное значение: 5.0\n",
      "Максимальное значение: 22.0\n",
      "[ 5.  6.  7.  8.  9. 10. 11. 12. 13. 14. 15. 16. 17. 18. 19. 20. 21. 22.]\n"
     ]
    }
   ],
   "source": [
    "print(\"Дискретная случайная величина\")\n",
    "print('Равномерное распределение')\n",
    "print('Количество разных значений:', len(np.unique(data['C'])))\n",
    "print('Математическое ожидание:', np.mean(data['C']))\n",
    "print('Стандартное отклонение:', np.std(data['C']))\n",
    "print('Минимальное значение:', np.min(data['C']))\n",
    "print('Максимальное значение:', np.max(data['C']))\n",
    "print(np.unique(data['C']))"
   ]
  },
  {
   "cell_type": "code",
   "execution_count": 22,
   "metadata": {},
   "outputs": [
    {
     "data": {
      "text/plain": [
       "[<matplotlib.lines.Line2D at 0x187f473df70>]"
      ]
     },
     "execution_count": 22,
     "metadata": {},
     "output_type": "execute_result"
    },
    {
     "data": {
      "image/png": "[encoded data removed]",
      "text/plain": [
       "<Figure size 432x288 with 1 Axes>"
      ]
     },
     "metadata": {
      "needs_background": "light"
     },
     "output_type": "display_data"
    }
   ],
   "source": [
    "def my_fun_C(x):\n",
    "    if np.min(np.unique(data['C'])) <= x <= np.max(np.unique(data['C'])): return 1/(np.max(np.unique(data['C']))-np.min(np.unique(data['C'])))\n",
    "    else: return 0\n",
    "\n",
    "plt.hist(data['C'], density=True, bins=len(np.unique(data['C']))) #другое количество корзин (количество уникальных элементов)\n",
    "X = np.linspace(4,25)\n",
    "Y = [my_fun_C(x) for x in X]\n",
    "plt.plot(X, Y)"
   ]
  },
  {
   "cell_type": "markdown",
   "metadata": {},
   "source": [
    "# Столбец D"
   ]
  },
  {
   "cell_type": "code",
   "execution_count": 23,
   "metadata": {},
   "outputs": [
    {
     "name": "stdout",
     "output_type": "stream",
     "text": [
      "[-12.787182865222814, -14.079656841781976, 24.64741592266754, 29.54169159420273, -13.336953278423584, -17.487942278068996, -18.81307542540597, 28.93061494500411, -8.51967683086843, -15.66985804306867, 27.512013452235895, 26.495810049642618, -5.868870593226824, 30.19611452039453, 28.72924988416863, -8.200791848028778, 29.553804585983087, -6.525092814322189, 28.59730443093064, 28.33504920227145]\n"
     ]
    },
    {
     "data": {
      "image/png": "[encoded data removed]",
      "text/plain": [
       "<Figure size 432x288 with 1 Axes>"
      ]
     },
     "metadata": {
      "needs_background": "light"
     },
     "output_type": "display_data"
    }
   ],
   "source": [
    "print(list(data['D'])[:20])\n",
    "plt.hist(data['D'], density=True, bins=sqr_n); # Строим гистограмму"
   ]
  },
  {
   "cell_type": "code",
   "execution_count": null,
   "metadata": {},
   "outputs": [],
   "source": [
    "# Тут пишите свой код, чтобы выполнить задание"
   ]
  },
  {
   "cell_type": "markdown",
   "metadata": {},
   "source": [
    "# Столбец E"
   ]
  },
  {
   "cell_type": "code",
   "execution_count": 24,
   "metadata": {},
   "outputs": [
    {
     "name": "stdout",
     "output_type": "stream",
     "text": [
      "[-23.38417901090322, 23.472624827888662, -13.659114660254904, 23.18158246000454, -12.330100857684526, -16.174058458191542, -16.52937850115063, -9.90589586976104, -20.04211216302117, -15.513499024101886, -22.31080981045521, 17.882989555989163, -8.52641729762702, -16.055870745248733, 24.970799422310336, -21.610066266593613, 21.402142317136228, -9.153596742959188, -13.719485897992287, -21.213915809622584]\n"
     ]
    },
    {
     "data": {
      "image/png": "[encoded data removed]",
      "text/plain": [
       "<Figure size 432x288 with 1 Axes>"
      ]
     },
     "metadata": {
      "needs_background": "light"
     },
     "output_type": "display_data"
    }
   ],
   "source": [
    "print(list(data['E'])[:20])\n",
    "plt.hist(data['E'], density=True, bins=sqr_n); # Строим гистограмму"
   ]
  },
  {
   "cell_type": "code",
   "execution_count": 25,
   "metadata": {},
   "outputs": [
    {
     "name": "stdout",
     "output_type": "stream",
     "text": [
      "Равномерное распределение\n",
      "Непрерывная случайная величина\n",
      "Математическое ожидание: -8.722967795386541\n",
      "Стандартное отклонение: 16.048558757350154\n",
      "Минимальное значение: -26.99919625424081\n",
      "Максимальное значение: 25.996812140059287\n"
     ]
    }
   ],
   "source": [
    "print(\"Равномерное распределение\")\n",
    "print('Непрерывная случайная величина')\n",
    "print('Математическое ожидание:', np.mean(data['E']))\n",
    "print('Стандартное отклонение:', np.std(data['E']))\n",
    "print('Минимальное значение:', np.min(data['E']))\n",
    "print('Максимальное значение:', np.max(data['E']))"
   ]
  },
  {
   "cell_type": "code",
   "execution_count": 45,
   "metadata": {},
   "outputs": [
    {
     "data": {
      "image/png": "[encoded data removed]",
      "text/plain": [
       "<Figure size 432x288 with 1 Axes>"
      ]
     },
     "metadata": {
      "needs_background": "light"
     },
     "output_type": "display_data"
    },
    {
     "data": {
      "image/png": "[encoded data removed]",
      "text/plain": [
       "<Figure size 432x288 with 1 Axes>"
      ]
     },
     "metadata": {
      "needs_background": "light"
     },
     "output_type": "display_data"
    }
   ],
   "source": [
    "hist1 = []\n",
    "hist2 = []\n",
    "\n",
    "def my_fun_E(x):\n",
    "    global hist1\n",
    "    global hist2\n",
    "    if np.min(hist1) <= x <= np.max(hist1): return 0.75/(np.max(hist1)-np.min(hist1))\n",
    "    if np.min(hist2) <= x <= np.max(hist2): return 0.25/(np.max(hist2)-np.min(hist2))\n",
    "    else: return 0\n",
    "\n",
    "for el in data['E']:\n",
    "    if el < 0:\n",
    "        hist1.append(el)\n",
    "    else:\n",
    "        hist2.append(el)\n",
    "        \n",
    "plt.hist(hist1, density=True, bins=sqr_n)\n",
    "plt.show()\n",
    "plt.hist(hist2, density=True, bins=sqr_n)\n",
    "plt.show()"
   ]
  },
  {
   "cell_type": "code",
   "execution_count": 46,
   "metadata": {},
   "outputs": [
    {
     "data": {
      "text/plain": [
       "[<matplotlib.lines.Line2D at 0x187f6604760>]"
      ]
     },
     "execution_count": 46,
     "metadata": {},
     "output_type": "execute_result"
    },
    {
     "data": {
      "image/png": "[encoded data removed]",
      "text/plain": [
       "<Figure size 432x288 with 1 Axes>"
      ]
     },
     "metadata": {
      "needs_background": "light"
     },
     "output_type": "display_data"
    }
   ],
   "source": [
    "X = np.linspace(-30,30)\n",
    "Y = [my_fun_E(x) for x in X]\n",
    "\n",
    "plt.hist(data['E'], density=True, bins=sqr_n)\n",
    "plt.plot(X, Y)"
   ]
  },
  {
   "cell_type": "markdown",
   "metadata": {},
   "source": [
    "# Столбец F"
   ]
  },
  {
   "cell_type": "code",
   "execution_count": 47,
   "metadata": {},
   "outputs": [
    {
     "name": "stdout",
     "output_type": "stream",
     "text": [
      "[-6.625255157792443, -2.4381336190355896, -2.9716444057430778, -11.73849676104621, 11.304301854854767, 10.434560439592452, 2.9058427049828417, -11.275337782283636, -7.236179413001945, -2.9476452069956665, -2.5205590773463147, -13.31525409747458, -7.0550822095016, -7.284688135831353, -2.7504270582465, 3.262835563522888, 11.758363659325582, -10.192190901306486, 3.4109258593198177, -11.081231986266442]\n"
     ]
    },
    {
     "data": {
      "image/png": "[encoded data removed]",
      "text/plain": [
       "<Figure size 432x288 with 1 Axes>"
      ]
     },
     "metadata": {
      "needs_background": "light"
     },
     "output_type": "display_data"
    }
   ],
   "source": [
    "print(list(data['F'])[:20])\n",
    "plt.hist(data['F'], density=True, bins=sqr_n); #Строим гистограмму, но пока не ясно, что это такое"
   ]
  },
  {
   "cell_type": "code",
   "execution_count": 50,
   "metadata": {},
   "outputs": [
    {
     "name": "stdout",
     "output_type": "stream",
     "text": [
      "Непрерывная случайная величина\n",
      "Равномерное распределение\n",
      "Математическое ожидание: -1.516712840512886\n",
      "Стандартное отклонение: 7.813918345784173\n",
      "Минимальное значение: -15.053770765453772\n",
      "Максимальное значение: 11.976071534611112\n"
     ]
    }
   ],
   "source": [
    "print(\"Непрерывная случайная величина\")\n",
    "print(\"Равномерное распределение\")\n",
    "print('Математическое ожидание:', np.mean(data['F']))\n",
    "print('Стандартное отклонение:', np.std(data['F']))\n",
    "print('Минимальное значение:', np.min(data['F']))\n",
    "print('Максимальное значение:', np.max(data['F']))"
   ]
  },
  {
   "cell_type": "code",
   "execution_count": 55,
   "metadata": {},
   "outputs": [
    {
     "data": {
      "text/plain": [
       "[<matplotlib.lines.Line2D at 0x187f692d550>]"
      ]
     },
     "execution_count": 55,
     "metadata": {},
     "output_type": "execute_result"
    },
    {
     "data": {
      "image/png": "[encoded data removed]",
      "text/plain": [
       "<Figure size 432x288 with 1 Axes>"
      ]
     },
     "metadata": {
      "needs_background": "light"
     },
     "output_type": "display_data"
    }
   ],
   "source": [
    "def my_fun_F(x):\n",
    "    if np.min(data['F']) <= x <= np.max(data['F']): return 1/(np.max(data['F'])-np.min(data['F']))\n",
    "    else: return 0\n",
    "    \n",
    "X = np.linspace(-16,13)\n",
    "Y = [my_fun_F(x) for x in X]\n",
    "plt.hist(data['F'], density=True, bins=60)\n",
    "plt.plot(X, Y)"
   ]
  },
  {
   "cell_type": "markdown",
   "metadata": {},
   "source": [
    "# Столбец G"
   ]
  },
  {
   "cell_type": "code",
   "execution_count": 56,
   "metadata": {},
   "outputs": [
    {
     "name": "stdout",
     "output_type": "stream",
     "text": [
      "[-4.0, 3.0, 15.0, 17.0, 17.0, 5.0, 4.0, -30.0, -2.0, 9.0, 16.0, 24.0, -23.0, -11.0, 14.0, 34.0, 43.0, 36.0, 9.0, -25.0]\n"
     ]
    },
    {
     "data": {
      "image/png": "[encoded data removed]",
      "text/plain": [
       "<Figure size 432x288 with 1 Axes>"
      ]
     },
     "metadata": {
      "needs_background": "light"
     },
     "output_type": "display_data"
    }
   ],
   "source": [
    "print(list(data['G'])[:20])\n",
    "plt.hist(data['G'], density=True, bins=sqr_n); # Строим гистограмму"
   ]
  },
  {
   "cell_type": "code",
   "execution_count": 57,
   "metadata": {},
   "outputs": [
    {
     "name": "stdout",
     "output_type": "stream",
     "text": [
      "Дискретное случайная величина\n",
      "Нормальное распределение\n",
      "Математическое ожидание: 8.0605\n",
      "Стандартное отклонение: 16.76225043811242\n",
      "Минимальное значение: -59.0\n",
      "Максимальное значение: 72.0\n",
      "[-59. -50. -46. -45. -44. -43. -42. -41. -40. -39. -38. -37. -36. -35.\n",
      " -34. -33. -32. -31. -30. -29. -28. -27. -26. -25. -24. -23. -22. -21.\n",
      " -20. -19. -18. -17. -16. -15. -14. -13. -12. -11. -10.  -9.  -8.  -7.\n",
      "  -6.  -5.  -4.  -3.  -2.  -1.   0.   1.   2.   3.   4.   5.   6.   7.\n",
      "   8.   9.  10.  11.  12.  13.  14.  15.  16.  17.  18.  19.  20.  21.\n",
      "  22.  23.  24.  25.  26.  27.  28.  29.  30.  31.  32.  33.  34.  35.\n",
      "  36.  37.  38.  39.  40.  41.  42.  43.  44.  45.  46.  47.  48.  49.\n",
      "  50.  51.  52.  53.  54.  55.  56.  57.  58.  59.  60.  61.  62.  63.\n",
      "  66.  72.]\n"
     ]
    }
   ],
   "source": [
    "print(\"Дискретное случайная величина\")\n",
    "print(\"Нормальное распределение\")\n",
    "print('Математическое ожидание:', np.mean(data['G']))\n",
    "print('Стандартное отклонение:', np.std(data['G']))\n",
    "print('Минимальное значение:', np.min(data['G']))\n",
    "print('Максимальное значение:', np.max(data['G']))\n",
    "print(np.unique(data['G']))"
   ]
  },
  {
   "cell_type": "code",
   "execution_count": 58,
   "metadata": {},
   "outputs": [
    {
     "data": {
      "text/plain": [
       "[<matplotlib.lines.Line2D at 0x187f6b49250>]"
      ]
     },
     "execution_count": 58,
     "metadata": {},
     "output_type": "execute_result"
    },
    {
     "data": {
      "image/png": "[encoded data removed]",
      "text/plain": [
       "<Figure size 432x288 with 1 Axes>"
      ]
     },
     "metadata": {
      "needs_background": "light"
     },
     "output_type": "display_data"
    }
   ],
   "source": [
    "def my_fun_G(x):\n",
    "    mu = 8.0605\n",
    "    sigma = 16.76225043811242\n",
    "    k = 1/(sigma*(2*math.pi)**0.5)\n",
    "    a = -0.5*((x-mu)/sigma)**2\n",
    "    return k*math.exp(a)\n",
    "\n",
    "X = np.linspace(-100,100)\n",
    "Y = [my_fun_G(x) for x in X]\n",
    "plt.hist(data['G'], density=True, bins=np.unique(data['G'])) #выбрано другое количество \"корзин\" (равно количеству уникальных элементов)\n",
    "plt.plot(X, Y)"
   ]
  },
  {
   "cell_type": "markdown",
   "metadata": {},
   "source": [
    "# Столбец H"
   ]
  },
  {
   "cell_type": "code",
   "execution_count": 59,
   "metadata": {},
   "outputs": [
    {
     "name": "stdout",
     "output_type": "stream",
     "text": [
      "[0.117597318092153, 0.164569079390057, 0.0312761952778877, 0.0267459929836157, 0.0287187319680152, 0.2641743213048845, 0.0438893987672141, 0.2378555803152985, 0.1555662780884965, 0.0334579895953443, 0.0434231884230014, 0.1167284946599854, 0.0442254014027138, 0.0091208155003756, 0.0524054334580958, 0.0083873608660778, 0.1277631263798354, 0.2811234738992147, 0.0092534345713164, 0.3098820557270147]\n"
     ]
    },
    {
     "data": {
      "image/png": "[encoded data removed]",
      "text/plain": [
       "<Figure size 432x288 with 1 Axes>"
      ]
     },
     "metadata": {
      "needs_background": "light"
     },
     "output_type": "display_data"
    }
   ],
   "source": [
    "print(list(data['H'])[:20])\n",
    "plt.hist(data['H'], density=True, bins=sqr_n); # Строим гистограмму"
   ]
  },
  {
   "cell_type": "code",
   "execution_count": 60,
   "metadata": {},
   "outputs": [
    {
     "name": "stdout",
     "output_type": "stream",
     "text": [
      "Непрерывная случайная величина\n",
      "Экспоненциальный закон распределения\n",
      "Математическое ожидание: 0.11087290920742118\n",
      "Стандартное отклонение: 0.11271250843063893\n",
      "Минимальное значение: 1.091314513959712e-06\n",
      "Максимальное значение: 1.368814354885572\n"
     ]
    }
   ],
   "source": [
    "print(\"Непрерывная случайная величина\")\n",
    "print(\"Экспоненциальный закон распределения\")\n",
    "print('Математическое ожидание:', np.mean(data['H']))\n",
    "print('Стандартное отклонение:', np.std(data['H']))\n",
    "print('Минимальное значение:', np.min(data['H']))\n",
    "print('Максимальное значение:', np.max(data['H']))"
   ]
  },
  {
   "cell_type": "code",
   "execution_count": 64,
   "metadata": {},
   "outputs": [
    {
     "name": "stdout",
     "output_type": "stream",
     "text": [
      "[0.117597318092153, 0.164569079390057, 0.0312761952778877, 0.0267459929836157, 0.0287187319680152, 0.2641743213048845, 0.0438893987672141, 0.2378555803152985, 0.1555662780884965, 0.0334579895953443, 0.0434231884230014, 0.1167284946599854, 0.0442254014027138, 0.0091208155003756, 0.0524054334580958, 0.0083873608660778, 0.1277631263798354, 0.2811234738992147, 0.0092534345713164, 0.3098820557270147]\n"
     ]
    },
    {
     "data": {
      "text/plain": [
       "[<matplotlib.lines.Line2D at 0x187f6c84d30>]"
      ]
     },
     "execution_count": 64,
     "metadata": {},
     "output_type": "execute_result"
    },
    {
     "data": {
      "image/png": "[encoded data removed]",
      "text/plain": [
       "<Figure size 432x288 with 1 Axes>"
      ]
     },
     "metadata": {
      "needs_background": "light"
     },
     "output_type": "display_data"
    }
   ],
   "source": [
    "def exponential_distribution(X, lambd):\n",
    "    return lambd*np.exp(-lambd*X)\n",
    "\n",
    "\n",
    "X = np.linspace(0,1.4,num=500)\n",
    "lambd = 9\n",
    "print(list(data['H'])[:20])\n",
    "plt.hist(data['H'], density=True , bins=sqr_n)\n",
    "plt.plot(X,exponential_distribution(X,lambd),color='r')"
   ]
  },
  {
   "cell_type": "code",
   "execution_count": 66,
   "metadata": {},
   "outputs": [
    {
     "name": "stdout",
     "output_type": "stream",
     "text": [
      "lambda =  9\n"
     ]
    }
   ],
   "source": [
    "print(\"lambda = \", str(lambd))"
   ]
  },
  {
   "cell_type": "code",
   "execution_count": null,
   "metadata": {},
   "outputs": [],
   "source": []
  }
 ],
 "metadata": {
  "kernelspec": {
   "display_name": "Python 3",
   "language": "python",
   "name": "python3"
  },
  "language_info": {
   "codemirror_mode": {
    "name": "ipython",
    "version": 3
   },
   "file_extension": ".py",
   "mimetype": "text/x-python",
   "name": "python",
   "nbconvert_exporter": "python",
   "pygments_lexer": "ipython3",
   "version": "3.7.4"
  }
 },
 "nbformat": 4,
 "nbformat_minor": 4
}
