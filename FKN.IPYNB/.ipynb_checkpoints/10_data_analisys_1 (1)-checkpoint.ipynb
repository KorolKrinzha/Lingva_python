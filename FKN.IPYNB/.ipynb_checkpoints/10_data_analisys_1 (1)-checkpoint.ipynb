{
 "cells": [
  {
   "cell_type": "code",
   "execution_count": 1,
   "metadata": {},
   "outputs": [],
   "source": [
    "import numpy as np\n",
    "import pandas as pd\n",
    "import matplotlib.pyplot as plt\n",
    "import math"
   ]
  },
  {
   "cell_type": "markdown",
   "metadata": {},
   "source": [
    "# Задание\n",
    "Для каждого столбца определите:\n",
    "1. Тип случайной величины: дискретный или непрерывной\n",
    "2. Математические ожидание и стандартное отклонение\n",
    "3. Закон распределения\n",
    "    - Один из \"базовых\": равномерный (укажите границы), нормальный, экспоненциальный (укажите параметр). \n",
    "    - Если не \"базовый\", то опишите, как он устроен.\n",
    "4. Напишите код соответствующей функции распределения и постройте ее график на гистограмме (кроме случая, когда распределение будет степенью равномерного)\n",
    "\n"
   ]
  },
  {
   "cell_type": "code",
   "execution_count": 69,
   "metadata": {},
   "outputs": [
    {
     "data": {
      "text/html": [
       "<div>\n",
       "<style scoped>\n",
       "    .dataframe tbody tr th:only-of-type {\n",
       "        vertical-align: middle;\n",
       "    }\n",
       "\n",
       "    .dataframe tbody tr th {\n",
       "        vertical-align: top;\n",
       "    }\n",
       "\n",
       "    .dataframe thead th {\n",
       "        text-align: right;\n",
       "    }\n",
       "</style>\n",
       "<table border=\"1\" class=\"dataframe\">\n",
       "  <thead>\n",
       "    <tr style=\"text-align: right;\">\n",
       "      <th></th>\n",
       "      <th>A</th>\n",
       "      <th>B</th>\n",
       "      <th>C</th>\n",
       "      <th>D</th>\n",
       "      <th>E</th>\n",
       "      <th>F</th>\n",
       "      <th>G</th>\n",
       "      <th>H</th>\n",
       "      <th>I</th>\n",
       "    </tr>\n",
       "  </thead>\n",
       "  <tbody>\n",
       "    <tr>\n",
       "      <th>0</th>\n",
       "      <td>10.290223</td>\n",
       "      <td>2.043302</td>\n",
       "      <td>5.382144</td>\n",
       "      <td>0.037000</td>\n",
       "      <td>-21.662332</td>\n",
       "      <td>-19.990965</td>\n",
       "      <td>-19.0</td>\n",
       "      <td>9.0</td>\n",
       "      <td>2908.161005</td>\n",
       "    </tr>\n",
       "    <tr>\n",
       "      <th>1</th>\n",
       "      <td>-18.529592</td>\n",
       "      <td>-1.771646</td>\n",
       "      <td>-16.510424</td>\n",
       "      <td>0.141720</td>\n",
       "      <td>34.390569</td>\n",
       "      <td>-13.157097</td>\n",
       "      <td>-12.0</td>\n",
       "      <td>17.0</td>\n",
       "      <td>6436.101850</td>\n",
       "    </tr>\n",
       "    <tr>\n",
       "      <th>2</th>\n",
       "      <td>-15.580882</td>\n",
       "      <td>0.341581</td>\n",
       "      <td>-16.782513</td>\n",
       "      <td>0.008641</td>\n",
       "      <td>28.002313</td>\n",
       "      <td>-8.334836</td>\n",
       "      <td>-11.0</td>\n",
       "      <td>9.0</td>\n",
       "      <td>1755.068577</td>\n",
       "    </tr>\n",
       "    <tr>\n",
       "      <th>3</th>\n",
       "      <td>-17.368924</td>\n",
       "      <td>0.077035</td>\n",
       "      <td>7.351028</td>\n",
       "      <td>0.039297</td>\n",
       "      <td>-16.839862</td>\n",
       "      <td>2.172386</td>\n",
       "      <td>6.0</td>\n",
       "      <td>13.0</td>\n",
       "      <td>1980.551823</td>\n",
       "    </tr>\n",
       "    <tr>\n",
       "      <th>4</th>\n",
       "      <td>-13.139966</td>\n",
       "      <td>-0.513584</td>\n",
       "      <td>-1.860932</td>\n",
       "      <td>0.251751</td>\n",
       "      <td>-6.482233</td>\n",
       "      <td>8.887991</td>\n",
       "      <td>29.0</td>\n",
       "      <td>15.0</td>\n",
       "      <td>6601.728616</td>\n",
       "    </tr>\n",
       "  </tbody>\n",
       "</table>\n",
       "</div>"
      ],
      "text/plain": [
       "           A         B          C         D          E          F     G     H  \\\n",
       "0  10.290223  2.043302   5.382144  0.037000 -21.662332 -19.990965 -19.0   9.0   \n",
       "1 -18.529592 -1.771646 -16.510424  0.141720  34.390569 -13.157097 -12.0  17.0   \n",
       "2 -15.580882  0.341581 -16.782513  0.008641  28.002313  -8.334836 -11.0   9.0   \n",
       "3 -17.368924  0.077035   7.351028  0.039297 -16.839862   2.172386   6.0  13.0   \n",
       "4 -13.139966 -0.513584  -1.860932  0.251751  -6.482233   8.887991  29.0  15.0   \n",
       "\n",
       "             I  \n",
       "0  2908.161005  \n",
       "1  6436.101850  \n",
       "2  1755.068577  \n",
       "3  1980.551823  \n",
       "4  6601.728616  "
      ]
     },
     "execution_count": 69,
     "metadata": {},
     "output_type": "execute_result"
    }
   ],
   "source": [
    "data = pd.read_csv('0.csv') #Тут укажите файл Вашего варианта\n",
    "data.head()"
   ]
  },
  {
   "cell_type": "code",
   "execution_count": 58,
   "metadata": {},
   "outputs": [
    {
     "name": "stdout",
     "output_type": "stream",
     "text": [
      "<class 'pandas.core.frame.DataFrame'>\n",
      "RangeIndex: 10000 entries, 0 to 9999\n",
      "Data columns (total 8 columns):\n",
      " #   Column  Non-Null Count  Dtype  \n",
      "---  ------  --------------  -----  \n",
      " 0   A       10000 non-null  float64\n",
      " 1   B       10000 non-null  float64\n",
      " 2   C       10000 non-null  float64\n",
      " 3   D       10000 non-null  float64\n",
      " 4   E       10000 non-null  float64\n",
      " 5   F       10000 non-null  float64\n",
      " 6   G       10000 non-null  float64\n",
      " 7   H       10000 non-null  float64\n",
      "dtypes: float64(8)\n",
      "memory usage: 625.1 KB\n"
     ]
    }
   ],
   "source": [
    "n = len(data) # Количесвто строк в таблице\n",
    "sqr_n = int(n**0.5) #Корень из n, будем использовать для построения гистограмм\n",
    "data.info()"
   ]
  },
  {
   "cell_type": "markdown",
   "metadata": {},
   "source": [
    "# Столбец A"
   ]
  },
  {
   "cell_type": "code",
   "execution_count": 70,
   "metadata": {},
   "outputs": [
    {
     "name": "stdout",
     "output_type": "stream",
     "text": [
      "[10.290222927672461, -18.529592362432467, -15.580881639862964, -17.368923661221082, -13.13996605419108, -20.073028624270922, 11.78577776454468, -15.296483985406908, 21.529535216054782, -16.4765296765476, 10.103288097110648, -25.39748051750025, 19.566593932614648, -17.58913062110872, -9.513970257516206, -22.076740301299385, -10.470557456052466, -19.41267442142085, -23.342781845255605, 12.159747605252194]\n"
     ]
    },
    {
     "data": {
      "image/png": "[encoded data removed]",
      "text/plain": [
       "<Figure size 432x288 with 1 Axes>"
      ]
     },
     "metadata": {
      "needs_background": "light"
     },
     "output_type": "display_data"
    }
   ],
   "source": [
    "print(list(data['A'])[:20])\n",
    "plt.hist(data['A'], density=True , bins=sqr_n); # Строим гистограмму"
   ]
  },
  {
   "cell_type": "code",
   "execution_count": 54,
   "metadata": {},
   "outputs": [],
   "source": [
    "# Тут пишите свой код, чтобы выполнить задание"
   ]
  },
  {
   "cell_type": "markdown",
   "metadata": {},
   "source": [
    "# Столбец B"
   ]
  },
  {
   "cell_type": "code",
   "execution_count": 71,
   "metadata": {},
   "outputs": [
    {
     "name": "stdout",
     "output_type": "stream",
     "text": [
      "[2.0433023507158774, -1.771645991551008, 0.3415812236983369, 0.0770347795853834, -0.5135838657786811, 1.6205223638967916, -2.0390164567670674, 0.22858160963738905, -1.2807919429989156, 1.3886449831333454, -1.8856954857093349, -1.6276753186682664, 2.585479387047745, 0.4373468950500397, 0.22275284662170505, 0.07003011623374511, -1.651530502701413, -2.102734694063689, -0.6009625483368534, 1.4206714864907857]\n"
     ]
    },
    {
     "data": {
      "image/png": "[encoded data removed]",
      "text/plain": [
       "<Figure size 432x288 with 1 Axes>"
      ]
     },
     "metadata": {
      "needs_background": "light"
     },
     "output_type": "display_data"
    }
   ],
   "source": [
    "print(list(data['B'])[:20])\n",
    "plt.hist(data['B'], density=True, bins=sqr_n); # Строим гистограмму"
   ]
  },
  {
   "cell_type": "code",
   "execution_count": 97,
   "metadata": {},
   "outputs": [
    {
     "name": "stdout",
     "output_type": "stream",
     "text": [
      "Математическое ожидание: -0.5027346145788453\n",
      "Стандартное отклонение: 2.1152158678891886\n",
      "Минимальное значение: -8.298933890994721\n",
      "Максимальное значение: 7.776052000223823\n"
     ]
    }
   ],
   "source": [
    "print('Математическое ожидание:', np.mean(data['B']))\n",
    "print('Стандартное отклонение:', np.std(data['B']))\n",
    "print('Минимальное значение:', np.min(data['B']))\n",
    "print('Максимальное значение:', np.max(data['B']))"
   ]
  },
  {
   "cell_type": "code",
   "execution_count": 101,
   "metadata": {},
   "outputs": [
    {
     "data": {
      "text/plain": [
       "[<matplotlib.lines.Line2D at 0x223d52b97f0>]"
      ]
     },
     "execution_count": 101,
     "metadata": {},
     "output_type": "execute_result"
    },
    {
     "data": {
      "image/png": "[encoded data removed]",
      "text/plain": [
       "<Figure size 432x288 with 1 Axes>"
      ]
     },
     "metadata": {
      "needs_background": "light"
     },
     "output_type": "display_data"
    }
   ],
   "source": [
    "def my_fun_B(x):\n",
    "    mu = -0.502734\n",
    "    sigma = 2.11521\n",
    "    k = 1/(sigma*(2*math.pi)**0.5)\n",
    "    a = -0.5*((x-mu)/sigma)**2\n",
    "    return k*math.exp(a)\n",
    "\n",
    "#Строим гистограму и функцию\n",
    "X = np.linspace(-9,8)\n",
    "Y = [my_fun_B(x) for x in X]\n",
    "plt.hist(data['B'], density=True, bins=sqr_n);\n",
    "plt.plot(X,Y)"
   ]
  },
  {
   "cell_type": "markdown",
   "metadata": {},
   "source": [
    "# Столбец C"
   ]
  },
  {
   "cell_type": "code",
   "execution_count": 72,
   "metadata": {},
   "outputs": [
    {
     "name": "stdout",
     "output_type": "stream",
     "text": [
      "[5.382144170740876, -16.51042406784748, -16.7825128152966, 7.351028237901187, -1.8609320036298411, 8.914889254169381, 1.0061324661969273, -16.174501159572227, -13.110877852840517, -4.497730859990425, -12.641664185716975, 9.103579499275707, 12.798423640829506, 1.1815390107540544, 2.140765114897018, 9.858115015386208, 3.0730641140276878, -6.31544658974706, -10.991962615147774, -5.548998183224793]\n"
     ]
    },
    {
     "data": {
      "image/png": "[encoded data removed]",
      "text/plain": [
       "<Figure size 432x288 with 1 Axes>"
      ]
     },
     "metadata": {
      "needs_background": "light"
     },
     "output_type": "display_data"
    }
   ],
   "source": [
    "print(list(data['C'])[:20])\n",
    "plt.hist(data['C'], density=True, bins=sqr_n); # Строим гистограмму"
   ]
  },
  {
   "cell_type": "code",
   "execution_count": null,
   "metadata": {},
   "outputs": [],
   "source": [
    "# Тут пишите свой код, чтобы выполнить задание"
   ]
  },
  {
   "cell_type": "markdown",
   "metadata": {},
   "source": [
    "# Столбец D"
   ]
  },
  {
   "cell_type": "code",
   "execution_count": 73,
   "metadata": {},
   "outputs": [
    {
     "name": "stdout",
     "output_type": "stream",
     "text": [
      "[0.03699951245255996, 0.14172004043298525, 0.008641020468745729, 0.03929748202541635, 0.2517505684759655, 0.06763244327119827, 0.32361688375011943, 0.24372266741803314, 0.13430512281094067, 0.4124084162201485, 0.29199898453191303, 0.0076394705169464, 0.022653517100744185, 0.02515929942745549, 0.17532941399788454, 0.060608007695402935, 0.01987460618084083, 0.20736174252664175, 0.20643948754955332, 0.05157650883845507]\n"
     ]
    },
    {
     "data": {
      "image/png": "[encoded data removed]",
      "text/plain": [
       "<Figure size 432x288 with 1 Axes>"
      ]
     },
     "metadata": {
      "needs_background": "light"
     },
     "output_type": "display_data"
    }
   ],
   "source": [
    "print(list(data['D'])[:20])\n",
    "plt.hist(data['D'], density=True, bins=sqr_n); # Строим гистограмму"
   ]
  },
  {
   "cell_type": "code",
   "execution_count": null,
   "metadata": {},
   "outputs": [],
   "source": [
    "# Тут пишите свой код, чтобы выполнить задание"
   ]
  },
  {
   "cell_type": "markdown",
   "metadata": {},
   "source": [
    "# Столбец E"
   ]
  },
  {
   "cell_type": "code",
   "execution_count": 74,
   "metadata": {},
   "outputs": [
    {
     "name": "stdout",
     "output_type": "stream",
     "text": [
      "[-21.662332082954315, 34.39056915282456, 28.002312961905684, -16.839862047472568, -6.4822326544320665, -16.65699403080874, 30.18607143264783, 33.559489684077676, 22.592196007570077, 21.605593102184947, -15.8071927603653, 25.769643823467856, 40.70067113227054, -4.6456789063816775, 29.725382576437635, 30.20415863875801, 14.659231742841316, -6.614512387897563, -22.53662499425347, 21.507151302073346]\n"
     ]
    },
    {
     "data": {
      "image/png": "[encoded data removed]",
      "text/plain": [
       "<Figure size 432x288 with 1 Axes>"
      ]
     },
     "metadata": {
      "needs_background": "light"
     },
     "output_type": "display_data"
    }
   ],
   "source": [
    "print(list(data['E'])[:20])\n",
    "plt.hist(data['E'], density=True, bins=sqr_n); # Строим гистограмму"
   ]
  },
  {
   "cell_type": "code",
   "execution_count": null,
   "metadata": {},
   "outputs": [],
   "source": [
    "# Тут пишите свой код, чтобы выполнить задание"
   ]
  },
  {
   "cell_type": "markdown",
   "metadata": {},
   "source": [
    "# Столбец F"
   ]
  },
  {
   "cell_type": "code",
   "execution_count": 75,
   "metadata": {},
   "outputs": [
    {
     "name": "stdout",
     "output_type": "stream",
     "text": [
      "[-19.990965359008587, -13.157097114635787, -8.3348358582275, 2.172385950065518, 8.88799097803356, -3.838156565983232, -10.88331300883416, 11.800756803030884, 13.239839324774373, -25.877041902948577, -13.72592751004117, -1.1538066603230792, -5.828442028371674, -0.7499183585942184, -3.633450434375274, -0.9179075190674516, -22.61659972967763, 15.465723492434485, -23.27791242105237, -0.8674317150675144]\n"
     ]
    },
    {
     "data": {
      "image/png": "[encoded data removed]",
      "text/plain": [
       "<Figure size 432x288 with 1 Axes>"
      ]
     },
     "metadata": {
      "needs_background": "light"
     },
     "output_type": "display_data"
    }
   ],
   "source": [
    "print(list(data['F'])[:20])\n",
    "plt.hist(data['F'], density=True, bins=sqr_n); #Строим гистограмму, но пока не ясно, что это такое"
   ]
  },
  {
   "cell_type": "code",
   "execution_count": null,
   "metadata": {},
   "outputs": [],
   "source": [
    "# Тут пишите свой код, чтобы выполнить задание"
   ]
  },
  {
   "cell_type": "markdown",
   "metadata": {},
   "source": [
    "# Столбец G"
   ]
  },
  {
   "cell_type": "code",
   "execution_count": 89,
   "metadata": {},
   "outputs": [
    {
     "name": "stdout",
     "output_type": "stream",
     "text": [
      "[-19.0, -12.0, -11.0, 6.0, 29.0, 6.0, 7.0, 3.0, 26.0, -24.0, 33.0, 28.0, 13.0, 11.0, -1.0, 15.0, -5.0, -11.0, -14.0, 21.0]\n"
     ]
    },
    {
     "data": {
      "image/png": "[encoded data removed]",
      "text/plain": [
       "<Figure size 432x288 with 1 Axes>"
      ]
     },
     "metadata": {
      "needs_background": "light"
     },
     "output_type": "display_data"
    }
   ],
   "source": [
    "print(list(data['G'])[:20])\n",
    "plt.hist(data['G'], density=True, bins=sqr_n); # Строим гистограмму"
   ]
  },
  {
   "cell_type": "code",
   "execution_count": 95,
   "metadata": {},
   "outputs": [],
   "source": [
    "# Тут пишите свой код, чтобы выполнить задание"
   ]
  },
  {
   "cell_type": "markdown",
   "metadata": {},
   "source": [
    "# Столбец H"
   ]
  },
  {
   "cell_type": "code",
   "execution_count": 77,
   "metadata": {},
   "outputs": [
    {
     "name": "stdout",
     "output_type": "stream",
     "text": [
      "[9.0, 17.0, 9.0, 13.0, 15.0, 9.0, 11.0, 8.0, 10.0, 13.0, 12.0, 14.0, 14.0, 18.0, 16.0, 7.0, 12.0, 13.0, 13.0, 14.0]\n"
     ]
    },
    {
     "data": {
      "image/png": "[encoded data removed]",
      "text/plain": [
       "<Figure size 432x288 with 1 Axes>"
      ]
     },
     "metadata": {
      "needs_background": "light"
     },
     "output_type": "display_data"
    }
   ],
   "source": [
    "print(list(data['H'])[:20])\n",
    "plt.hist(data['H'], density=True, bins=sqr_n); # Строим гистограмму"
   ]
  },
  {
   "cell_type": "code",
   "execution_count": 82,
   "metadata": {},
   "outputs": [
    {
     "name": "stdout",
     "output_type": "stream",
     "text": [
      "Количество разных значений: 14\n",
      "Математическое ожидание: 12.5057\n",
      "Стандартное отклонение: 4.050921809909456\n",
      "Минимальное значение: 6.0\n",
      "Максимальное значение: 19.0\n"
     ]
    }
   ],
   "source": [
    "#Находим разные характеристики\n",
    "\n",
    "print('Количество разных значений:', len(np.unique(data['H'])))\n",
    "print('Математическое ожидание:', np.mean(data['H']))\n",
    "print('Стандартное отклонение:', np.std(data['H']))\n",
    "print('Минимальное значение:', np.min(data['H']))\n",
    "print('Максимальное значение:', np.max(data['H']))"
   ]
  },
  {
   "cell_type": "code",
   "execution_count": 84,
   "metadata": {},
   "outputs": [
    {
     "data": {
      "text/plain": [
       "array([ 6.,  7.,  8.,  9., 10., 11., 12., 13., 14., 15., 16., 17., 18.,\n",
       "       19.])"
      ]
     },
     "execution_count": 84,
     "metadata": {},
     "output_type": "execute_result"
    }
   ],
   "source": [
    "np.unique(data['H'])"
   ]
  },
  {
   "cell_type": "code",
   "execution_count": 86,
   "metadata": {},
   "outputs": [
    {
     "data": {
      "image/png": "[encoded data removed]",
      "text/plain": [
       "<Figure size 432x288 with 1 Axes>"
      ]
     },
     "metadata": {
      "needs_background": "light"
     },
     "output_type": "display_data"
    }
   ],
   "source": [
    "# Делаем вывод, что величина дискртеная, поэтому надо правильно выбрать корзины.\n",
    "unique_values = len(np.unique(data['H']))\n",
    "plt.hist(data['H'], density=True, bins=unique_values); #Строим гистограмму, с числом корзин = числу различных значений"
   ]
  },
  {
   "cell_type": "code",
   "execution_count": 88,
   "metadata": {},
   "outputs": [
    {
     "data": {
      "text/plain": [
       "[<matplotlib.lines.Line2D at 0x223d3973fd0>]"
      ]
     },
     "execution_count": 88,
     "metadata": {},
     "output_type": "execute_result"
    },
    {
     "data": {
      "image/png": "[encoded data removed]",
      "text/plain": [
       "<Figure size 432x288 with 1 Axes>"
      ]
     },
     "metadata": {
      "needs_background": "light"
     },
     "output_type": "display_data"
    }
   ],
   "source": [
    "# Получаем равномерное дискретное распределние от 6 до 19\n",
    "# Записываем код функции\n",
    "def my_fun_H(x):\n",
    "    if 6 <= x <= 19: return 1/(19-6)\n",
    "    else: return 0\n",
    "\n",
    "#Строим гистограму и функцию\n",
    "X = np.linspace(4,21)\n",
    "Y = [my_fun_F(x) for x in X]\n",
    "plt.hist(data['H'], density=True, bins=unique_values);\n",
    "plt.plot(X,Y)"
   ]
  },
  {
   "cell_type": "markdown",
   "metadata": {},
   "source": [
    "# Столбец I"
   ]
  },
  {
   "cell_type": "code",
   "execution_count": 80,
   "metadata": {},
   "outputs": [
    {
     "name": "stdout",
     "output_type": "stream",
     "text": [
      "[2908.161004579997, 6436.101849862824, 1755.0685765194794, 1980.5518231451676, 6601.728615844581, 4491.589243507615, 3783.547613595079, 2870.537003954675, 3807.2186955997545, 7763.494176218367, 3210.0320592645257, 11169.539240757405, 7890.209397631906, 7739.7127399435985, 6492.568152661127, 7330.994887349875, 9419.367745764477, 7671.9512774776895, 3800.307885602855, 3673.4888455016976]\n"
     ]
    },
    {
     "data": {
      "image/png": "[encoded data removed]",
      "text/plain": [
       "<Figure size 432x288 with 1 Axes>"
      ]
     },
     "metadata": {
      "needs_background": "light"
     },
     "output_type": "display_data"
    }
   ],
   "source": [
    "print(list(data['I'])[:20])\n",
    "plt.hist(data['I'], density=True, bins=sqr_n); # Строим гистограмму"
   ]
  },
  {
   "cell_type": "code",
   "execution_count": 91,
   "metadata": {},
   "outputs": [
    {
     "data": {
      "image/png": "[encoded data removed]",
      "text/plain": [
       "<Figure size 432x288 with 1 Axes>"
      ]
     },
     "metadata": {
      "needs_background": "light"
     },
     "output_type": "display_data"
    }
   ],
   "source": [
    "new_I = np.array(data['I'])**(1/2)\n",
    "plt.hist(new_I, density=True, bins=sqr_n); # Строим гистограмму"
   ]
  },
  {
   "cell_type": "code",
   "execution_count": 93,
   "metadata": {},
   "outputs": [
    {
     "data": {
      "image/png": "[encoded data removed]",
      "text/plain": [
       "<Figure size 432x288 with 1 Axes>"
      ]
     },
     "metadata": {
      "needs_background": "light"
     },
     "output_type": "display_data"
    }
   ],
   "source": [
    "new_G = np.array(data['I'])**(1/3)\n",
    "plt.hist(new_G, density=True, bins=sqr_n); # Строим гистограмму"
   ]
  },
  {
   "cell_type": "code",
   "execution_count": 94,
   "metadata": {},
   "outputs": [
    {
     "name": "stdout",
     "output_type": "stream",
     "text": [
      "11.8367981906949 22.71681887067471\n"
     ]
    }
   ],
   "source": [
    "print(new_G.min(),new_G.max())"
   ]
  },
  {
   "cell_type": "markdown",
   "metadata": {},
   "source": [
    "Получили что данная величина является __кубом__ равномерной случайной величины на отрезке [11.83, 22.71] "
   ]
  },
  {
   "cell_type": "code",
   "execution_count": 100,
   "metadata": {},
   "outputs": [],
   "source": [
    "def normal(x, mu, sigma):\n",
    "    k = 1/(sigma*(2*math.pi)**0.5)\n",
    "    a = -0.5*((x-mu)/sigma)**2\n",
    "    return k*math.exp(a)\n",
    "\n",
    "def line(x, l, r):\n",
    "    if l <= x <= r: return 1/(r-l)\n",
    "    else: return 0\n",
    "\n",
    "def exponential_distribution(X, lambd):\n",
    "    return lambd*np.exp(-lambd*X)\n",
    "    \n",
    "data = pd.read_csv('25.csv') #Тут укажите файл Вашего варианта\n",
    "data.head()\n",
    "n = len(data)\n",
    "bins_count = int(n ** 0.5)"
   ]
  },
  {
   "cell_type": "markdown",
   "metadata": {},
   "source": [
    "# Столбец А"
   ]
  },
  {
   "cell_type": "code",
   "execution_count": 23,
   "metadata": {},
   "outputs": [
    {
     "name": "stdout",
     "output_type": "stream",
     "text": [
      "[-66. -58. -55. -53. -51. -49. -48. -47. -46. -45. -44. -43. -42. -41.\n",
      " -40. -39. -38. -37. -36. -35. -34. -33. -32. -31. -30. -29. -28. -27.\n",
      " -26. -25. -24. -23. -22. -21. -20. -19. -18. -17. -16. -15. -14. -13.\n",
      " -12. -11. -10.  -9.  -8.  -7.  -6.  -5.  -4.  -3.  -2.  -1.   0.   1.\n",
      "   2.   3.   4.   5.   6.   7.   8.   9.  10.  11.  12.  13.  14.  15.\n",
      "  16.  17.  18.  19.  20.  21.  22.  23.  24.  25.  26.  27.  28.  29.\n",
      "  30.  31.  32.  33.  34.  35.  36.  37.  38.  39.  40.  41.  42.  43.\n",
      "  44.  45.  46.  47.  48.  49.  50.  51.  52.  53.  54.  55.  56.  57.\n",
      "  58.  59.  60.  61.  62.  63.  64.  65.  66.  67.  68.  70.  71.  72.\n",
      "  73.  74.  81.  82.  91.]\n",
      "Величина: дискретная\n",
      "Математическое ожидание: 10.2383\n",
      "Стандартное отклонение: 18.823020828496272\n",
      "Закон распределения: нормальный\n",
      "[18.0, -6.0, 16.0, -2.0, -2.0, 20.0, -7.0, 13.0, -2.0, 4.0, 11.0, -14.0, 25.0, -5.0, 7.0, -7.0, -5.0, 6.0, 2.0, 9.0]\n"
     ]
    },
    {
     "data": {
      "text/plain": [
       "[<matplotlib.lines.Line2D at 0x2168bd011f0>]"
      ]
     },
     "execution_count": 23,
     "metadata": {},
     "output_type": "execute_result"
    },
    {
     "data": {
      "image/png": "[encoded data removed]",
      "text/plain": [
       "<Figure size 432x288 with 1 Axes>"
      ]
     },
     "metadata": {
      "needs_background": "light"
     },
     "output_type": "display_data"
    }
   ],
   "source": [
    "print(np.unique(data['A']))\n",
    "print(\"Величина: дискретная\")\n",
    "my_mean = np.mean(data['A'])\n",
    "my_std =  np.std(data['A'])\n",
    "print('Математическое ожидание:', my_mean)\n",
    "print('Стандартное отклонение:', my_std)\n",
    "\n",
    "print(\"Закон распределения: нормальный\")\n",
    "print(list(data['A'])[:20])\n",
    "plt.hist(data['A'], density=True, bins = np.unique(data['A'])); \n",
    "\n",
    "X = np.linspace(-60,80)\n",
    "Y = [normal(x, my_mean, my_std) for x in X]\n",
    "plt.plot(X,Y)"
   ]
  },
  {
   "cell_type": "markdown",
   "metadata": {},
   "source": [
    "# Столбец В"
   ]
  },
  {
   "cell_type": "code",
   "execution_count": 45,
   "metadata": {},
   "outputs": [
    {
     "name": "stdout",
     "output_type": "stream",
     "text": [
      "[ 5.  6.  7.  8.  9. 10. 11. 12. 13. 14. 15. 16. 17. 18. 19. 20. 21. 22.\n",
      " 23. 24. 25.]\n",
      "Величина: дискретная\n",
      "Математическое ожидание: 14.9805\n",
      "Стандартное отклонение: 6.092513418122259\n",
      "Закон распределения: равномерный [5; 25]\n"
     ]
    },
    {
     "data": {
      "text/plain": [
       "[<matplotlib.lines.Line2D at 0x216a54919a0>]"
      ]
     },
     "execution_count": 45,
     "metadata": {},
     "output_type": "execute_result"
    },
    {
     "data": {
      "image/png": "[encoded data removed]",
      "text/plain": [
       "<Figure size 432x288 with 1 Axes>"
      ]
     },
     "metadata": {
      "needs_background": "light"
     },
     "output_type": "display_data"
    }
   ],
   "source": [
    "name = 'B'\n",
    "print(np.unique(data[name]))\n",
    "print(\"Величина: дискретная\")\n",
    "my_mean = np.mean(data[name])\n",
    "my_std =  np.std(data[name])\n",
    "print('Математическое ожидание:', my_mean)\n",
    "print('Стандартное отклонение:', my_std)\n",
    "\n",
    "print(\"Закон распределения: равномерный [5; 25]\")\n",
    "plt.hist(data[name], density=True, bins = np.unique(data[name])); \n",
    "\n",
    "X = np.linspace(4,27)\n",
    "Y = [line(x,5,25) for x in X]\n",
    "plt.plot(X,Y)"
   ]
  },
  {
   "cell_type": "markdown",
   "metadata": {},
   "source": [
    "# Столбец С"
   ]
  },
  {
   "cell_type": "code",
   "execution_count": 63,
   "metadata": {},
   "outputs": [
    {
     "name": "stdout",
     "output_type": "stream",
     "text": [
      "[-11.64044701 -11.63593625 -11.63583443 ...  14.700631    14.70429146\n",
      "  14.7065425 ]\n",
      "Величина: непрерывная\n",
      "Математическое ожидание: 1.5763662415493878\n",
      "Стандартное отклонение: 7.614126057129454\n",
      "Закон распределения: равномерный [-11.64; 14.7]\n"
     ]
    },
    {
     "data": {
      "text/plain": [
       "[<matplotlib.lines.Line2D at 0x216b19cf310>]"
      ]
     },
     "execution_count": 63,
     "metadata": {},
     "output_type": "execute_result"
    },
    {
     "data": {
      "image/png": "[encoded data removed]",
      "text/plain": [
       "<Figure size 432x288 with 1 Axes>"
      ]
     },
     "metadata": {
      "needs_background": "light"
     },
     "output_type": "display_data"
    }
   ],
   "source": [
    "name = 'C'\n",
    "\n",
    "print(np.unique(data[name]))\n",
    "print(\"Величина: непрерывная\")\n",
    "my_mean = np.mean(data[name])\n",
    "my_std =  np.std(data[name])\n",
    "print('Математическое ожидание:', my_mean)\n",
    "print('Стандартное отклонение:', my_std)\n",
    "\n",
    "print(\"Закон распределения: равномерный [-11.64; 14.7]\")\n",
    "plt.hist(data[name], density=True, bins = bins_count); \n",
    "\n",
    "X = np.linspace(-15,20)\n",
    "Y = [line(x, -11.64, 14.7) for x in X]\n",
    "plt.plot(X,Y)"
   ]
  },
  {
   "cell_type": "markdown",
   "metadata": {},
   "source": [
    "# Столбец D"
   ]
  },
  {
   "cell_type": "code",
   "execution_count": 66,
   "metadata": {},
   "outputs": [
    {
     "name": "stdout",
     "output_type": "stream",
     "text": [
      "[14.78232322 14.78235468 14.78256303 ... 21.78901092 21.79024161\n",
      " 21.79218916]\n",
      "Величина: непрерывная\n",
      "Математическое ожидание: 18.239268913660418\n",
      "Стандартное отклонение: 2.01858574203104\n",
      "Закон распределения: равномерный [14.78; 21.79]\n"
     ]
    },
    {
     "data": {
      "text/plain": [
       "[<matplotlib.lines.Line2D at 0x216b1e2cdf0>]"
      ]
     },
     "execution_count": 66,
     "metadata": {},
     "output_type": "execute_result"
    },
    {
     "data": {
      "image/png": "[encoded data removed]",
      "text/plain": [
       "<Figure size 432x288 with 1 Axes>"
      ]
     },
     "metadata": {
      "needs_background": "light"
     },
     "output_type": "display_data"
    }
   ],
   "source": [
    "name = 'D'\n",
    "\n",
    "print(np.unique(data[name]))\n",
    "print(\"Величина: непрерывная\")\n",
    "my_mean = np.mean(data[name])\n",
    "my_std =  np.std(data[name])\n",
    "print('Математическое ожидание:', my_mean)\n",
    "print('Стандартное отклонение:', my_std)\n",
    "\n",
    "print(\"Закон распределения: равномерный [14.78; 21.79]\")\n",
    "plt.hist(data[name], density=True, bins = bins_count); \n",
    "\n",
    "X = np.linspace(12,25)\n",
    "Y = [line(x, 14.78, 21.79) for x in X]\n",
    "plt.plot(X,Y)"
   ]
  },
  {
   "cell_type": "markdown",
   "metadata": {},
   "source": [
    "# Столбец E"
   ]
  },
  {
   "cell_type": "code",
   "execution_count": 212,
   "metadata": {},
   "outputs": [
    {
     "name": "stdout",
     "output_type": "stream",
     "text": [
      "[-55.01662016 -54.59931901 -51.63106752 ...  45.94832428  47.3553548\n",
      "  48.23063974]\n",
      "Величина: непрерывная\n",
      "Математическое ожидание: 6.3737609324061095\n",
      "Стандартное отклонение: 24.450651871214895\n",
      "Закон распределения: нормальный \n",
      "6.535342368103913\n"
     ]
    },
    {
     "data": {
      "text/plain": [
       "[<matplotlib.lines.Line2D at 0x216c7c64100>]"
      ]
     },
     "execution_count": 212,
     "metadata": {},
     "output_type": "execute_result"
    },
    {
     "data": {
      "image/png": "[encoded data removed]",
      "text/plain": [
       "<Figure size 432x288 with 1 Axes>"
      ]
     },
     "metadata": {
      "needs_background": "light"
     },
     "output_type": "display_data"
    }
   ],
   "source": [
    "name = 'E'\n",
    "\n",
    "print(np.unique(data[name]))\n",
    "print(\"Величина: непрерывная\")\n",
    "my_mean = np.mean(data[name])\n",
    "my_std =  np.std(data[name])\n",
    "print('Математическое ожидание:', my_mean)\n",
    "print('Стандартное отклонение:', my_std)\n",
    "print(\"Закон распределения: нормальный \")\n",
    "plt.hist(data[name], density=True, bins = bins_count); \n",
    "\n",
    "\n",
    "\n",
    "#X = np.linspace(-60, 50)\n",
    "#X1 = np.linspace(-60, 50)\n",
    "#Y = [ (1/3 * normal(x, np.mean(data[name][:5000]), np.std(data[name][:5000]))\n",
    "       #+ 2/3 * normal(x, np.mean(data[name][5000:]), np.std(data[name][5000:])))  for x in X]\n",
    "#plt.plot(X,Y)\n",
    "\n",
    "print(np.mean(data[name][0: 5000]))\n",
    "X = np.linspace(-60, 50)\n",
    "Y = [ (1/2 * normal(x, -17, 11) + 1/2 *normal(x, 29, 5))  for x in X]\n",
    "plt.plot(X,Y)"
   ]
  },
  {
   "cell_type": "markdown",
   "metadata": {},
   "source": [
    "# Столбец G"
   ]
  },
  {
   "cell_type": "code",
   "execution_count": 215,
   "metadata": {},
   "outputs": [
    {
     "name": "stdout",
     "output_type": "stream",
     "text": [
      "[-27.98737178 -27.96901091 -27.95601804 ...  28.9948043   28.99748259\n",
      "  28.99790368]\n",
      "Величина: непрерывная\n",
      "Математическое ожидание: 9.175147198772313\n",
      "Стандартное отклонение: 17.322700009245622\n",
      "Закон распределения: равномерный [-27.98; -10] и [8.99; 28.99]\n"
     ]
    },
    {
     "data": {
      "text/plain": [
       "[<matplotlib.lines.Line2D at 0x216c80d4220>]"
      ]
     },
     "execution_count": 215,
     "metadata": {},
     "output_type": "execute_result"
    },
    {
     "data": {
      "image/png": "[encoded data removed]",
      "text/plain": [
       "<Figure size 432x288 with 1 Axes>"
      ]
     },
     "metadata": {
      "needs_background": "light"
     },
     "output_type": "display_data"
    }
   ],
   "source": [
    "name = 'G'\n",
    "\n",
    "print(np.unique(data[name]))\n",
    "\n",
    "print(\"Величина: непрерывная\")\n",
    "my_mean = np.mean(data[name])\n",
    "my_std =  np.std(data[name])\n",
    "print('Математическое ожидание:', my_mean)\n",
    "print('Стандартное отклонение:', my_std)\n",
    "\n",
    "print(\"Закон распределения: равномерный [-27.98; -10] и [8.99; 28.99]\")\n",
    "plt.hist(data[name], density=True, bins = bins_count); \n",
    "\n",
    "X = np.linspace(-30, 30)\n",
    "Y = [ (1/4 * line(x, -27.98, -10) + 3/4 * line(x, 7.6, 28.99))  for x in X]\n",
    "plt.plot(X,Y)"
   ]
  },
  {
   "cell_type": "markdown",
   "metadata": {},
   "source": [
    "У нас есть 2 случайные величины. Мы их можем связать с помощью 3 случайной величиной, состоящей из 0 или 1 с некоторыми вероятностями.\n",
    "Задача заключается в том, что бы подобрать эти вероятности."
   ]
  },
  {
   "cell_type": "code",
   "execution_count": 122,
   "metadata": {},
   "outputs": [
    {
     "name": "stdout",
     "output_type": "stream",
     "text": [
      "[2.85124012e-06 1.04554869e-05 2.19289934e-05 ... 8.75955072e-01\n",
      " 8.88915222e-01 9.13089265e-01]\n",
      "Величина: непрерывная\n",
      "Математическое ожидание: 0.11007637568595668\n",
      "Стандартное отклонение: 0.10986573754091486\n",
      "Закон распределения: экспоненциальный 9\n"
     ]
    },
    {
     "data": {
      "text/plain": [
       "[<matplotlib.lines.Line2D at 0x216b9505a90>]"
      ]
     },
     "execution_count": 122,
     "metadata": {},
     "output_type": "execute_result"
    },
    {
     "data": {
      "image/png": "[encoded data removed]",
      "text/plain": [
       "<Figure size 432x288 with 1 Axes>"
      ]
     },
     "metadata": {
      "needs_background": "light"
     },
     "output_type": "display_data"
    }
   ],
   "source": [
    "name = 'H'\n",
    "\n",
    "\n",
    "print(np.unique(data[name]))\n",
    "print(\"Величина: непрерывная\")\n",
    "my_mean = np.mean(data[name])\n",
    "my_std =  np.std(data[name])\n",
    "print('Математическое ожидание:', my_mean)\n",
    "print('Стандартное отклонение:', my_std)\n",
    "\n",
    "print(\"Закон распределения: экспоненциальный 9\")\n",
    "plt.hist(data[name], density=True, bins = bins_count); \n",
    "\n",
    "X = np.linspace(0, 1)\n",
    "Y = [ exponential_distribution(x, 9)  for x in X]\n",
    "plt.plot(X,Y)"
   ]
  },
  {
   "cell_type": "code",
   "execution_count": null,
   "metadata": {},
   "outputs": [],
   "source": []
  }
 ],
 "metadata": {
  "kernelspec": {
   "display_name": "Python 3",
   "language": "python",
   "name": "python3"
  },
  "language_info": {
   "codemirror_mode": {
    "name": "ipython",
    "version": 3
   },
   "file_extension": ".py",
   "mimetype": "text/x-python",
   "name": "python",
   "nbconvert_exporter": "python",
   "pygments_lexer": "ipython3",
   "version": "3.7.4"
  }
 },
 "nbformat": 4,
 "nbformat_minor": 4
}
