{
 "cells": [
  {
   "cell_type": "markdown",
   "metadata": {},
   "source": [
    "### Расстояние от точек до полинома ###"
   ]
  },
  {
   "cell_type": "markdown",
   "metadata": {},
   "source": [
    "Рассмотрим множество точек $A_1=(x_1,y_1), \\dots A_n=(x_n, y_n)$ и прямую $y=a_1x + a_0$.\n",
    "\n",
    "Для каждой точки $A_i=(x_i,y_i)$ найдем величину $r_i = |a_1 \\cdot x_i+a_0-y_i|$, те расстояние от точки до прямой по вертикали. \n",
    "\n",
    "Расстоянием от множества точек $A_1, \\dots, A_n$ до прямой $y=a_1x + a_0$ назовем величину\n",
    "$$\n",
    "R = \\sqrt{\\sum_{i=0}^n r_i^2}\n",
    "$$\n",
    "\n",
    "С вычислительной точки зрения нас будет интересовать величина \n",
    "$$\n",
    "R^2 = \\sum_{i=0}^n r_i^2\n",
    "$$\n",
    "искать мы буем именно ее, и корень извлекать не обязательно."
   ]
  },
  {
   "cell_type": "markdown",
   "metadata": {},
   "source": [
    "Пример вычисления $R^2$"
   ]
  },
  {
   "cell_type": "code",
   "execution_count": 2,
   "metadata": {},
   "outputs": [
    {
     "name": "stdout",
     "output_type": "stream",
     "text": [
      "3298\n"
     ]
    },
    {
     "data": {
      "image/png": "[encoded data removed]",
      "text/plain": [
       "<Figure size 432x288 with 1 Axes>"
      ]
     },
     "metadata": {
      "needs_background": "light"
     },
     "output_type": "display_data"
    }
   ],
   "source": [
    "import numpy as np\n",
    "import matplotlib.pyplot as plt\n",
    "\n",
    "n = 10\n",
    "X = np.arange(n)\n",
    "Y = np.array([i*(-1)**i + i**2 for i in range(n)])\n",
    "\n",
    "#Коэффциенты прямой A[0] и A[1]\n",
    "A = np.array([1,4]) \n",
    "\n",
    "def getDistance(X,Y,A):\n",
    "    R = 0\n",
    "    for i in range(len(X)):\n",
    "        r = A[1]*X[i]+A[0]-Y[i]\n",
    "        R += r*r\n",
    "    return R\n",
    "\n",
    "print(getDistance(X,Y,A))\n",
    "\n",
    "linsp  = np.linspace(X.min(), X.max())\n",
    "fun = A[1]*linsp + A[0]\n",
    "plt.plot(linsp,fun);\n",
    "plt.plot(X,Y, 'ro');\n",
    "plt.grid(True);\n",
    "\n"
   ]
  },
  {
   "cell_type": "markdown",
   "metadata": {},
   "source": [
    "### Задание 1 ###\n",
    "\n",
    "Реализуйте функцию getDistance для полинома произвольной степени $d$"
   ]
  },
  {
   "cell_type": "code",
   "execution_count": 36,
   "metadata": {},
   "outputs": [
    {
     "name": "stdout",
     "output_type": "stream",
     "text": [
      "0\n"
     ]
    },
    {
     "data": {
      "image/png": "[encoded data removed]",
      "text/plain": [
       "<Figure size 432x288 with 1 Axes>"
      ]
     },
     "metadata": {
      "needs_background": "light"
     },
     "output_type": "display_data"
    }
   ],
   "source": [
    "import numpy as np\n",
    "import matplotlib.pyplot as plt\n",
    "\n",
    "n = 10\n",
    "d = 5\n",
    "X = np.arange(n)\n",
    "Y = np.array([i*(-1)**i + i**d for i in range(n)])\n",
    "#Коэффциенты полинома степени d. По умолчанию = 1, но можно поменять\n",
    "A = np.ones(d+1)\n",
    "\n",
    "def getDistance(X,Y,A):\n",
    "    R = 0\n",
    "    # ¯\\_(ツ)_/¯\n",
    "    return R\n",
    "\n",
    "print(getDistance(X,Y,A))\n",
    "\n",
    "linsp  = np.linspace(X.min(), X.max())\n",
    "fun = A[d]*linsp+A[d-1] \n",
    "for i in range(d-2,-1,-1): \n",
    "    fun = linsp*fun + A[i] # Вычисление по схеме Горнера\n",
    "plt.plot(linsp,fun);\n",
    "plt.plot(X,Y, 'ro');\n",
    "plt.grid(True);"
   ]
  },
  {
   "cell_type": "markdown",
   "metadata": {},
   "source": [
    "## Метод наименьших квадратов\n",
    "\n",
    "http://setosa.io/ev/ordinary-least-squares-regression/\n",
    "\n",
    "Рассмотрим четыре точки $(0, -1)$, $(0,1)$, $(3,2)$ и $(3,4)$. Очевидно, что эти точки не лежат на одной прямой, тем не менее попытаемся найти прямую вида $y = kx + l$, которая проходила бы через все эти точки.\n",
    "\n",
    "Запишем сисему:\n",
    "$$\n",
    "\\left\\{\n",
    "\\begin{matrix}\n",
    "k \\cdot 0 + l = -1 \\\\\n",
    "k \\cdot 0 + l = 1 \\\\\n",
    "k \\cdot 3 + l = 2 \\\\\n",
    "k \\cdot 3 + l = 4 \\\\\n",
    "\\end{matrix}\n",
    "\\right.\n",
    "$$\n",
    "\n",
    "Или в матричном виде:\n",
    "$$\n",
    "\\begin{pmatrix}\n",
    "0 & 1 \\\\\n",
    "0 & 1 \\\\\n",
    "3 & 1 \\\\\n",
    "3 & 1 \\\\\n",
    "\\end{pmatrix}\n",
    "\\begin{pmatrix}\n",
    "k \\\\\n",
    "l\n",
    "\\end{pmatrix}\n",
    "=\n",
    "\\begin{pmatrix}\n",
    "-1 \\\\\n",
    "1 \\\\\n",
    "2 \\\\\n",
    "4 \\\\\n",
    "\\end{pmatrix}\n",
    "$$\n",
    "\n",
    "Или в общем виде:\n",
    "$$\n",
    "AX=B\n",
    "$$\n",
    "\n",
    "Оказывается, что \"решение\" данной системы методом наименьших квадратов может быть найдено, если данное равенство умножить слева на $A^t$, т.е.\n",
    "$$\n",
    "A^tAX=A^tB\n",
    "$$\n",
    "\n",
    "В нашем случае мы получаем:\n",
    "$$\n",
    "\\begin{pmatrix}\n",
    "0 & 0 & 3 & 3 \\\\\n",
    "1 & 1 & 1 & 1\n",
    "\\end{pmatrix}\n",
    "\\begin{pmatrix}\n",
    "0 & 1 \\\\\n",
    "0 & 1 \\\\\n",
    "3 & 1 \\\\\n",
    "3 & 1 \\\\\n",
    "\\end{pmatrix}\n",
    "\\begin{pmatrix}\n",
    "k \\\\\n",
    "l\n",
    "\\end{pmatrix}\n",
    "=\n",
    "\\begin{pmatrix}\n",
    "0 & 0 & 3 & 3 \\\\\n",
    "1 & 1 & 1 & 1\n",
    "\\end{pmatrix}\n",
    "\\begin{pmatrix}\n",
    "-1 \\\\\n",
    "1 \\\\\n",
    "2 \\\\\n",
    "4 \\\\\n",
    "\\end{pmatrix}\n",
    "$$\n",
    "\n",
    "Умножаем матрицы:\n",
    "\n",
    "$$\n",
    "\\begin{pmatrix}\n",
    "18 & 6\\\\\n",
    "6 & 4 \n",
    "\\end{pmatrix}\n",
    "\\begin{pmatrix}\n",
    "k \\\\\n",
    "l\n",
    "\\end{pmatrix}\n",
    "=\n",
    "\\begin{pmatrix}\n",
    "18 \\\\\n",
    "6 \\\\\n",
    "\\end{pmatrix}\n",
    "$$\n",
    "\n",
    "Откуда получаем решение $k = 1$, $l=0$ системы и искомую прямую\n",
    "$$\n",
    "y = 1 \\cdot x + 0.\n",
    "$$"
   ]
  },
  {
   "cell_type": "code",
   "execution_count": null,
   "metadata": {},
   "outputs": [],
   "source": []
  },
  {
   "cell_type": "code",
   "execution_count": 6,
   "metadata": {},
   "outputs": [
    {
     "name": "stdout",
     "output_type": "stream",
     "text": [
      "Решение: [-0.38888889  0.52777778]\n"
     ]
    },
    {
     "data": {
      "image/png": "[encoded data removed]",
      "text/plain": [
       "<Figure size 432x288 with 1 Axes>"
      ]
     },
     "metadata": {
      "needs_background": "light"
     },
     "output_type": "display_data"
    }
   ],
   "source": [
    "import numpy as np\n",
    "import matplotlib.pyplot as plt\n",
    "\n",
    "x = np.array([0, 0, 5, 3])\n",
    "y = np.array([-1, 1, -3, 2])\n",
    "\n",
    "A = np.vstack([x, np.ones(len(x))]).T\n",
    "P = A.T.dot(A)\n",
    "q = A.T.dot(y)\n",
    "R = np.linalg.inv(P).dot(q)\n",
    "print('Решение:', R)\n",
    "\n",
    "plt.plot(x,y,'ro');\n",
    "\n",
    "lin = np.linspace(-1, 5)\n",
    "plt.plot(lin,R[0]*lin+R[1], '.');\n",
    "plt.axis([-1,5,-5,5]);\n",
    "plt.axis('equal');\n",
    "plt.grid(True)\n"
   ]
  },
  {
   "cell_type": "markdown",
   "metadata": {},
   "source": [
    "### Задание 2 ###\n",
    "\n",
    "При помощи метода наименьших квадратов найти функцию вида \n",
    "$$\n",
    "y = a_2x^2 + a_1x + a_0,\n",
    "$$\n",
    "которая наиболее близко располагается между пяти заданных точек."
   ]
  },
  {
   "cell_type": "code",
   "execution_count": 6,
   "metadata": {},
   "outputs": [],
   "source": [
    "x = np.array([0, 0, 3, 3, 5])\n",
    "y = np.array([-1, 1, 4, 2, 2])\n",
    "# ¯\\_(ツ)_/¯"
   ]
  },
  {
   "cell_type": "markdown",
   "metadata": {},
   "source": [
    "### Задание 3 ###\n",
    "Реализуйте метод наименьших квадратов для произвольного многочлена степени $d$ и произвольного множества точке, мощности $n$.\n",
    "Постройте последовательно графики данных многочленов для $d=1,2, \\dots, n-1$"
   ]
  },
  {
   "cell_type": "code",
   "execution_count": 31,
   "metadata": {},
   "outputs": [],
   "source": [
    "n = 7\n",
    "X = np.array(range(n))\n",
    "Y = np.zeros(n)\n",
    "Y = np.array([i*(-1)**i + i**2 for i in range(n)])\n",
    "# ¯\\_(ツ)_/¯\n"
   ]
  },
  {
   "cell_type": "code",
   "execution_count": null,
   "metadata": {},
   "outputs": [],
   "source": []
  }
 ],
 "metadata": {
  "kernelspec": {
   "display_name": "Python 3",
   "language": "python",
   "name": "python3"
  },
  "language_info": {
   "codemirror_mode": {
    "name": "ipython",
    "version": 3
   },
   "file_extension": ".py",
   "mimetype": "text/x-python",
   "name": "python",
   "nbconvert_exporter": "python",
   "pygments_lexer": "ipython3",
   "version": "3.7.4"
  }
 },
 "nbformat": 4,
 "nbformat_minor": 2
}
