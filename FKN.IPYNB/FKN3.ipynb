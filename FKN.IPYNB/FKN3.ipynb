{
 "cells": [
  {
   "cell_type": "code",
   "execution_count": 3,
   "metadata": {},
   "outputs": [],
   "source": [
    "import random as rnd\n",
    "import numpy as np\n",
    "import matplotlib.pyplot as plt"
   ]
  },
  {
   "cell_type": "markdown",
   "metadata": {},
   "source": [
    "# Случайные величины и выборки\n",
    "\n",
    "Визуализация: https://seeing-theory.brown.edu/probability-distributions/index.html"
   ]
  },
  {
   "cell_type": "markdown",
   "metadata": {},
   "source": [
    "random_variable_simple(A,P) -- Пример случайной величины принимающей 3 значения A[0], A[1] и A[2] с вероятностями P[1], P[2] и P[3]"
   ]
  },
  {
   "cell_type": "code",
   "execution_count": 4,
   "metadata": {},
   "outputs": [],
   "source": [
    "def random_variable_simple(A,P):\n",
    "    '''\n",
    "    A - Список значений\n",
    "    P - Список вероятностей\n",
    "    len(A) = len(P) = 3\n",
    "    '''\n",
    "    x = rnd.random() # Возвращает случайное значение равновероятно из полуинтервала [0,1)\n",
    "    if x < P[0]: return A[0]\n",
    "    elif P[0] <= x < P[0] + P[1]: return A[1]\n",
    "    else: return A[2]"
   ]
  },
  {
   "cell_type": "code",
   "execution_count": 13,
   "metadata": {},
   "outputs": [
    {
     "name": "stdout",
     "output_type": "stream",
     "text": [
      "[ 2  3  3  2  3  3  2 -1  3  3 -1  3 -1  3 -1  3 -1  2  3  3  3  3  3  2\n",
      "  3 -1 -1  3 -1  3 -1  3 -1  3  3  3  3 -1  3  3 -1 -1  3  3  3  3  3  3\n",
      " -1  2  3 -1 -1 -1 -1 -1 -1  3  3  3  3 -1  3  3  3  2  2  2  3 -1 -1  3\n",
      "  3  3  3  2  3  3  3  3 -1  2  2 -1  3 -1 -1  3  2  2 -1  2  3  3  3  3\n",
      "  3  3  3  2]\n"
     ]
    },
    {
     "data": {
      "image/png": "[encoded data removed]",
      "text/plain": [
       "<Figure size 432x288 with 1 Axes>"
      ]
     },
     "metadata": {
      "needs_background": "light"
     },
     "output_type": "display_data"
    },
    {
     "data": {
      "image/png": "[encoded data removed]",
      "text/plain": [
       "<Figure size 432x288 with 1 Axes>"
      ]
     },
     "metadata": {
      "needs_background": "light"
     },
     "output_type": "display_data"
    }
   ],
   "source": [
    "A = np.array([-1, 2,3])\n",
    "P = np.array([0.3, 0.2, 0.5])\n",
    "n = 100\n",
    "R = np.array(np.arange(n))\n",
    "X = np.array([random_variable_simple(A,P) for _ in R])\n",
    "print(X)\n",
    "plt.figure(0)\n",
    "plt.scatter(X,R,marker='.');\n",
    "labels, counts = np.unique(X, return_counts=True)\n",
    "plt.bar(labels, counts, align='center', alpha=0.5)\n",
    "plt.figure(1)\n",
    "plt.hist(X, alpha=0.5); # Построение гистограммы сразу. Вместо использования np.unique и plt.bar"
   ]
  },
  {
   "cell_type": "markdown",
   "metadata": {},
   "source": [
    "## Задание 1\n",
    "Напишите код функции random_variable(A,P), которая генерирует случайную величину при заданных A и P любого размера. Т.е. надо модернизировать random_variable_simple, которая работает только при условии, что len(A) = len(P) = 3."
   ]
  },
  {
   "cell_type": "code",
   "execution_count": 14,
   "metadata": {},
   "outputs": [],
   "source": [
    "def random_variable(A,P):\n",
    "    return 0"
   ]
  },
  {
   "cell_type": "markdown",
   "metadata": {},
   "source": [
    "Запустите для проверки"
   ]
  },
  {
   "cell_type": "code",
   "execution_count": 16,
   "metadata": {},
   "outputs": [
    {
     "name": "stdout",
     "output_type": "stream",
     "text": [
      "[0 0 0 0 0 0 0 0 0 0 0 0 0 0 0 0 0 0 0 0 0 0 0 0 0 0 0 0 0 0 0 0 0 0 0 0 0\n",
      " 0 0 0 0 0 0 0 0 0 0 0 0 0 0 0 0 0 0 0 0 0 0 0 0 0 0 0 0 0 0 0 0 0 0 0 0 0\n",
      " 0 0 0 0 0 0 0 0 0 0 0 0 0 0 0 0 0 0 0 0 0 0 0 0 0 0]\n"
     ]
    },
    {
     "data": {
      "image/png": "[encoded data removed]",
      "text/plain": [
       "<Figure size 432x288 with 1 Axes>"
      ]
     },
     "metadata": {
      "needs_background": "light"
     },
     "output_type": "display_data"
    }
   ],
   "source": [
    "A = np.array([-2,-1,0,1,2])\n",
    "P = np.array([0.1, 0.2, 0.2,0.1,0.4])\n",
    "n = 100\n",
    "X = np.array([random_variable(A,P) for _ in range(n)])\n",
    "print(X)\n",
    "plt.scatter(X,R,marker='.');\n",
    "plt.hist(X, alpha=0.5);"
   ]
  },
  {
   "cell_type": "markdown",
   "metadata": {},
   "source": [
    "В дальнейшем для генерации выборки можно использовать функцию np.random.choice"
   ]
  },
  {
   "cell_type": "code",
   "execution_count": 28,
   "metadata": {},
   "outputs": [
    {
     "name": "stdout",
     "output_type": "stream",
     "text": [
      "[ 1  1  2 -2  2 -1  0  0  2 -1 -2 -1  1  2 -1  0 -1 -1 -1  2  0  2  2  2\n",
      " -2 -1  2  0  0 -1 -1  1 -1 -1  2  0  2  0  2  2 -2  2  2  0  1  1  0 -2\n",
      "  2  1 -1  2  0 -2  0  2  0 -2  2 -1  0  0  0  2  2  2  0  1 -2  1  2  2\n",
      " -2  0  2 -2  0  2  1  2  2 -1  0  0  1  2 -1  1  2  2  0  2  0 -2  2 -1\n",
      "  2 -1  2 -2]\n"
     ]
    },
    {
     "data": {
      "image/png": "[encoded data removed]",
      "text/plain": [
       "<Figure size 432x288 with 1 Axes>"
      ]
     },
     "metadata": {
      "needs_background": "light"
     },
     "output_type": "display_data"
    }
   ],
   "source": [
    "A = np.array([-2,-1,0,1,2])\n",
    "P = np.array([0.1, 0.2, 0.2,0.1,0.4])\n",
    "n = 100\n",
    "X = np.random.choice(A, size=n, p=P)\n",
    "print(X)\n",
    "plt.hist(X, density=True);"
   ]
  },
  {
   "cell_type": "code",
   "execution_count": 31,
   "metadata": {},
   "outputs": [
    {
     "data": {
      "image/png": "[encoded data removed]",
      "text/plain": [
       "<Figure size 432x288 with 1 Axes>"
      ]
     },
     "metadata": {
      "needs_background": "light"
     },
     "output_type": "display_data"
    },
    {
     "data": {
      "image/png": "[encoded data removed]",
      "text/plain": [
       "<Figure size 432x288 with 1 Axes>"
      ]
     },
     "metadata": {
      "needs_background": "light"
     },
     "output_type": "display_data"
    },
    {
     "data": {
      "image/png": "[encoded data removed]",
      "text/plain": [
       "<Figure size 432x288 with 1 Axes>"
      ]
     },
     "metadata": {
      "needs_background": "light"
     },
     "output_type": "display_data"
    }
   ],
   "source": [
    "k = 4\n",
    "A = range(k)\n",
    "P = [1/k]*k\n",
    "plt.figure()\n",
    "plt.hist(np.random.choice(A, size=5, p=P), density=True);\n",
    "plt.figure()\n",
    "plt.hist(np.random.choice(A, size=50, p=P), density=True);\n",
    "plt.figure()\n",
    "plt.hist(np.random.choice(A, size=500, p=P), density=True);"
   ]
  },
  {
   "cell_type": "markdown",
   "metadata": {},
   "source": [
    "## Задание 2\n",
    "\n",
    "Пусть случайная величина $\\xi$ принимает $k$ различных значения, заданных в массиве $A$, с некоторыми вероятностями $P$\n",
    "\n",
    "При заданном $n$ рассмотрим выборку значений $x_1, \\dots x_n$ значений случайной верличины $\\xi$. На основе выборки построим гистограмму. Пусть $q_1(n), \\dots ,q_k(n)$ - значения столбцов гистограммы.\n",
    "\n",
    "Напиште код, который в зависмиости от значений $n=1, \\dots, N$ строит графики значений $q_1(n), \\dots ,q_k(n)$\n",
    "\n",
    "Графики будут похожи на аналогичный пример с математическим ожиданием в конце тетрадки."
   ]
  },
  {
   "cell_type": "code",
   "execution_count": 1,
   "metadata": {},
   "outputs": [],
   "source": [
    "k = 2\n",
    "A = range(k)\n",
    "P = [1/k]*k\n",
    "N = 1000"
   ]
  },
  {
   "cell_type": "markdown",
   "metadata": {},
   "source": [
    "## Математическое ожидание\n",
    "### В теории вероятности\n",
    "\n",
    "Пусть дискретная случайная величина $\\xi$ принимает значения $a_1, \\dots, a_n$ с вероятнстями $p_1, \\dots, p_n$.\n",
    "\n",
    "Математическим ожиданием $\\xi$  называется число:\n",
    "$$\n",
    "E(\\xi) = p_1a_1 + p_2a_2 + \\dots + p_na_n = \\sum_{i=1}^n p_i \\cdot a_i = \n",
    "\\begin{pmatrix}\n",
    "p_1 & p_2 & \\dots & p_n\n",
    "\\end{pmatrix}\n",
    "\\begin{pmatrix}\n",
    "a_1 \\\\ \n",
    "a_2 \\\\ \n",
    "\\vdots \\\\\n",
    "a_n\n",
    "\\end{pmatrix}\n",
    "$$\n",
    "\n",
    "### В статистике\n",
    "\n",
    "Пусть $x_1, \\dots x_n$  - выборка значений.\n",
    "\n",
    "Средним значением называется число:\n",
    "$$\n",
    "\\overline{x} = \\frac{1}{n} \\sum_{i=1}^nx_i\n",
    "$$\n",
    "\n"
   ]
  },
  {
   "cell_type": "markdown",
   "metadata": {},
   "source": [
    "## Задание 3\n",
    "Напишите код функции expected_value(A,P), которая находит математическое ожидание случайной величины $\\xi$, задаваемой $(A,P)$\n",
    "Напишите код функции mean_value(X), которая находит среднее значение выборки $X$"
   ]
  },
  {
   "cell_type": "code",
   "execution_count": 6,
   "metadata": {},
   "outputs": [],
   "source": [
    "def expected_value(A,P):\n",
    "    return 0\n",
    "\n",
    "def mean_value(X):\n",
    "    return 0"
   ]
  },
  {
   "cell_type": "markdown",
   "metadata": {},
   "source": [
    "Используя NumPy это можно сделать так:"
   ]
  },
  {
   "cell_type": "code",
   "execution_count": 7,
   "metadata": {},
   "outputs": [
    {
     "name": "stdout",
     "output_type": "stream",
     "text": [
      "0.5\n",
      "0.0\n"
     ]
    }
   ],
   "source": [
    "print(A.dot(P))\n",
    "print(X.mean())"
   ]
  },
  {
   "cell_type": "code",
   "execution_count": 10,
   "metadata": {},
   "outputs": [
    {
     "data": {
      "image/png": "[encoded data removed]",
      "text/plain": [
       "<Figure size 432x288 with 1 Axes>"
      ]
     },
     "metadata": {
      "needs_background": "light"
     },
     "output_type": "display_data"
    }
   ],
   "source": [
    "A = np.array([-2,-1,0,1,2])\n",
    "P = np.array([0.2,0.5,0.1,0.1,0.1])\n",
    "N = 100\n",
    "X = np.random.choice(A, size=N, p=P)\n",
    "Z = [X[:n].mean() for n in range(1,N)]\n",
    "plt.plot(Z)\n",
    "plt.plot([A.dot(P)]*(N-1));"
   ]
  },
  {
   "cell_type": "code",
   "execution_count": null,
   "metadata": {},
   "outputs": [],
   "source": []
  }
 ],
 "metadata": {
  "kernelspec": {
   "display_name": "Python 3",
   "language": "python",
   "name": "python3"
  },
  "language_info": {
   "codemirror_mode": {
    "name": "ipython",
    "version": 3
   },
   "file_extension": ".py",
   "mimetype": "text/x-python",
   "name": "python",
   "nbconvert_exporter": "python",
   "pygments_lexer": "ipython3",
   "version": "3.8.5"
  }
 },
 "nbformat": 4,
 "nbformat_minor": 2
}
