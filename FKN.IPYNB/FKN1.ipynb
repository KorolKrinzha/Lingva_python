{
 "cells": [
  {
   "cell_type": "code",
   "execution_count": 4,
   "metadata": {},
   "outputs": [],
   "source": [
    "import numpy as np\n",
    "import math "
   ]
  },
  {
   "cell_type": "markdown",
   "metadata": {},
   "source": [
    "Матрица размером 1 на 3 (или вектор-строка)"
   ]
  },
  {
   "cell_type": "code",
   "execution_count": 5,
   "metadata": {},
   "outputs": [
    {
     "name": "stdout",
     "output_type": "stream",
     "text": [
      "[1 2 3]\n"
     ]
    }
   ],
   "source": [
    "a = np.array([1,2,3])\n",
    "print(a)"
   ]
  },
  {
   "cell_type": "markdown",
   "metadata": {},
   "source": [
    "Матрица размером 2 на 3"
   ]
  },
  {
   "cell_type": "code",
   "execution_count": 6,
   "metadata": {},
   "outputs": [
    {
     "name": "stdout",
     "output_type": "stream",
     "text": [
      "[[1 2 3]\n",
      " [4 5 6]]\n"
     ]
    }
   ],
   "source": [
    "b = np.array([[1,2,3],\n",
    "              [4,5,6]])\n",
    "print(b)"
   ]
  },
  {
   "cell_type": "markdown",
   "metadata": {},
   "source": [
    "Матрица размером 3 на 1 (или вектор-столбец)"
   ]
  },
  {
   "cell_type": "code",
   "execution_count": 7,
   "metadata": {},
   "outputs": [
    {
     "name": "stdout",
     "output_type": "stream",
     "text": [
      "[[7]\n",
      " [8]\n",
      " [9]]\n"
     ]
    }
   ],
   "source": [
    "c = np.array([[7],\n",
    "              [8],\n",
    "              [9]])\n",
    "\n",
    "print(c)"
   ]
  },
  {
   "cell_type": "markdown",
   "metadata": {},
   "source": [
    "Размеры матриц"
   ]
  },
  {
   "cell_type": "code",
   "execution_count": 8,
   "metadata": {},
   "outputs": [
    {
     "name": "stdout",
     "output_type": "stream",
     "text": [
      "(3,)\n",
      "(2, 3)\n",
      "(3, 1)\n"
     ]
    }
   ],
   "source": [
    "print(a.shape)\n",
    "print(b.shape)\n",
    "print(c.shape)"
   ]
  },
  {
   "cell_type": "markdown",
   "metadata": {},
   "source": [
    "Матрицы из базовых типов"
   ]
  },
  {
   "cell_type": "code",
   "execution_count": 9,
   "metadata": {},
   "outputs": [
    {
     "name": "stdout",
     "output_type": "stream",
     "text": [
      "my_list =  [1, 2, 3, 4, 5]\n",
      "my_tuple =  (6, 7, 8, 9, 10)\n",
      "my_range =  range(100, 110, 2)\n",
      "d = \n",
      "[[  1   2   3   4   5]\n",
      " [  6   7   8   9  10]\n",
      " [100 102 104 106 108]]\n"
     ]
    }
   ],
   "source": [
    "my_list = [1,2,3,4,5]\n",
    "print('my_list = ', my_list)\n",
    "my_tuple = (6,7,8,9,10)\n",
    "print('my_tuple = ', my_tuple)\n",
    "my_range = range(100,110,2)\n",
    "print('my_range = ', my_range)\n",
    "d = np.array([my_list, my_tuple, my_range])\n",
    "print('d = ', d, sep='\\n')"
   ]
  },
  {
   "cell_type": "markdown",
   "metadata": {},
   "source": [
    "Тип матрицы"
   ]
  },
  {
   "cell_type": "code",
   "execution_count": 10,
   "metadata": {},
   "outputs": [
    {
     "name": "stdout",
     "output_type": "stream",
     "text": [
      "type (a) =  int32\n",
      "a =  [1 2 3]\n",
      "type (b) =  float64\n",
      "b =  [1.  2.  1.5]\n",
      "type (c) =  <U6\n",
      "c =  ['привет' ',' 'мир!']\n"
     ]
    }
   ],
   "source": [
    "a = np.array([1, 2, 3])\n",
    "print('type (a) = ', a.dtype)\n",
    "print('a = ', a)\n",
    "\n",
    "b = np.array([1, 2, 3/2])\n",
    "print('type (b) = ', b.dtype)\n",
    "print('b = ', b)\n",
    "\n",
    "c = np.array(['привет',',', 'мир!'])\n",
    "print('type (c) = ', c.dtype)\n",
    "print('c = ', c)"
   ]
  },
  {
   "cell_type": "markdown",
   "metadata": {},
   "source": [
    "Нулевая матрица"
   ]
  },
  {
   "cell_type": "code",
   "execution_count": 11,
   "metadata": {},
   "outputs": [
    {
     "name": "stdout",
     "output_type": "stream",
     "text": [
      "[[0. 0. 0.]\n",
      " [0. 0. 0.]]\n"
     ]
    }
   ],
   "source": [
    "print(np.zeros((2,3)))"
   ]
  },
  {
   "cell_type": "markdown",
   "metadata": {},
   "source": [
    "Матрица из единиц"
   ]
  },
  {
   "cell_type": "code",
   "execution_count": 12,
   "metadata": {},
   "outputs": [
    {
     "name": "stdout",
     "output_type": "stream",
     "text": [
      "[[1. 1. 1.]\n",
      " [1. 1. 1.]\n",
      " [1. 1. 1.]\n",
      " [1. 1. 1.]]\n"
     ]
    }
   ],
   "source": [
    "print(np.ones((4,3)))"
   ]
  },
  {
   "cell_type": "markdown",
   "metadata": {},
   "source": [
    "Единичная матрица"
   ]
  },
  {
   "cell_type": "code",
   "execution_count": 13,
   "metadata": {},
   "outputs": [
    {
     "name": "stdout",
     "output_type": "stream",
     "text": [
      "[[1. 0. 0. 0.]\n",
      " [0. 1. 0. 0.]\n",
      " [0. 0. 1. 0.]\n",
      " [0. 0. 0. 1.]]\n"
     ]
    }
   ],
   "source": [
    "print(np.eye(4))"
   ]
  },
  {
   "cell_type": "markdown",
   "metadata": {},
   "source": [
    "Матрица из range"
   ]
  },
  {
   "cell_type": "code",
   "execution_count": 14,
   "metadata": {},
   "outputs": [
    {
     "name": "stdout",
     "output_type": "stream",
     "text": [
      "[ 0  1  2  3  4  5  6  7  8  9 10 11]\n",
      "[100 102 104 106 108 110 112 114 116 118 120 122]\n"
     ]
    }
   ],
   "source": [
    "print(np.arange(12))\n",
    "print(np.arange(100,124,2))"
   ]
  },
  {
   "cell_type": "markdown",
   "metadata": {},
   "source": [
    "Изменение размера"
   ]
  },
  {
   "cell_type": "code",
   "execution_count": 15,
   "metadata": {},
   "outputs": [
    {
     "name": "stdout",
     "output_type": "stream",
     "text": [
      "a =  [100 102 104 106 108 110 112 114 116 118 120 122]\n",
      "b = \n",
      "[[100 102 104]\n",
      " [106 108 110]\n",
      " [112 114 116]\n",
      " [118 120 122]]\n"
     ]
    }
   ],
   "source": [
    "a = np.arange(100,124,2)\n",
    "b = a.reshape(4,3)\n",
    "print('a = ', a)\n",
    "print('b = ', b, sep='\\n')"
   ]
  },
  {
   "cell_type": "code",
   "execution_count": 16,
   "metadata": {},
   "outputs": [
    {
     "name": "stdout",
     "output_type": "stream",
     "text": [
      "[[ 0  1  2  3  4  5]\n",
      " [ 6  7  8  9 10 11]\n",
      " [12 13 14 15 16 17]\n",
      " [18 19 20 21 22 23]\n",
      " [24 25 26 27 28 29]]\n"
     ]
    }
   ],
   "source": [
    "n = 5\n",
    "m = 6\n",
    "a = np.arange(n*m).reshape(n,m)\n",
    "print(a)"
   ]
  },
  {
   "cell_type": "markdown",
   "metadata": {},
   "source": [
    "Индексация и срезы"
   ]
  },
  {
   "cell_type": "code",
   "execution_count": 17,
   "metadata": {},
   "outputs": [
    {
     "name": "stdout",
     "output_type": "stream",
     "text": [
      "8 21 28\n"
     ]
    }
   ],
   "source": [
    "print(a[1,2], a[3,3], a[-1,4])"
   ]
  },
  {
   "cell_type": "code",
   "execution_count": 18,
   "metadata": {},
   "outputs": [
    {
     "name": "stdout",
     "output_type": "stream",
     "text": [
      "[ 6  7  8  9 10 11]\n"
     ]
    }
   ],
   "source": [
    "print(a[1])"
   ]
  },
  {
   "cell_type": "code",
   "execution_count": 19,
   "metadata": {},
   "outputs": [
    {
     "name": "stdout",
     "output_type": "stream",
     "text": [
      "[[ 0  1  2  3  4  5]\n",
      " [ 6  7  8  9 10 11]]\n"
     ]
    }
   ],
   "source": [
    "print(a[:2])"
   ]
  },
  {
   "cell_type": "code",
   "execution_count": 20,
   "metadata": {},
   "outputs": [
    {
     "name": "stdout",
     "output_type": "stream",
     "text": [
      "[[ 6  7  8  9 10 11]\n",
      " [18 19 20 21 22 23]]\n"
     ]
    }
   ],
   "source": [
    "print(a[1::2])"
   ]
  },
  {
   "cell_type": "code",
   "execution_count": 21,
   "metadata": {},
   "outputs": [
    {
     "name": "stdout",
     "output_type": "stream",
     "text": [
      "[ 1  7 13 19 25]\n"
     ]
    }
   ],
   "source": [
    "print(a[:,1])"
   ]
  },
  {
   "cell_type": "code",
   "execution_count": 22,
   "metadata": {},
   "outputs": [
    {
     "name": "stdout",
     "output_type": "stream",
     "text": [
      "[[ 8  9 10]\n",
      " [14 15 16]]\n"
     ]
    }
   ],
   "source": [
    "print(a[1:3,2:5])"
   ]
  },
  {
   "cell_type": "markdown",
   "metadata": {},
   "source": [
    "Транспонирование матрицы"
   ]
  },
  {
   "cell_type": "code",
   "execution_count": 23,
   "metadata": {},
   "outputs": [
    {
     "name": "stdout",
     "output_type": "stream",
     "text": [
      "a = \n",
      "[[ 0  1  2  3  4  5]\n",
      " [ 6  7  8  9 10 11]\n",
      " [12 13 14 15 16 17]\n",
      " [18 19 20 21 22 23]\n",
      " [24 25 26 27 28 29]]\n",
      "\n",
      "(5, 6) \n",
      "\n",
      "b = \n",
      "[[ 0  6 12 18 24]\n",
      " [ 1  7 13 19 25]\n",
      " [ 2  8 14 20 26]\n",
      " [ 3  9 15 21 27]\n",
      " [ 4 10 16 22 28]\n",
      " [ 5 11 17 23 29]]\n",
      "\n",
      "(6, 5)\n"
     ]
    }
   ],
   "source": [
    "print('a = ', a, '', sep='\\n')\n",
    "print(a.shape, '\\n')\n",
    "b=a.T\n",
    "print('b = ', b, '', sep='\\n')\n",
    "print(b.shape)"
   ]
  },
  {
   "cell_type": "markdown",
   "metadata": {},
   "source": [
    "Склейка матриц"
   ]
  },
  {
   "cell_type": "code",
   "execution_count": 24,
   "metadata": {},
   "outputs": [
    {
     "name": "stdout",
     "output_type": "stream",
     "text": [
      "a = \n",
      "[[0 1]\n",
      " [2 3]\n",
      " [4 5]]\n",
      "\n",
      "b = \n",
      "[[100 101]\n",
      " [102 103]\n",
      " [104 105]]\n",
      "\n",
      "c = \n",
      "[[  0   1 100 101]\n",
      " [  2   3 102 103]\n",
      " [  4   5 104 105]]\n",
      "\n",
      "d = \n",
      "[[  0   1]\n",
      " [  2   3]\n",
      " [  4   5]\n",
      " [100 101]\n",
      " [102 103]\n",
      " [104 105]]\n",
      "\n",
      "e = \n",
      "[[0 1 0 1 0 1 0 1 0 1]\n",
      " [2 3 2 3 2 3 2 3 2 3]\n",
      " [4 5 4 5 4 5 4 5 4 5]]\n"
     ]
    }
   ],
   "source": [
    "n=3\n",
    "m=2\n",
    "a = np.arange(n*m).reshape(n,m)\n",
    "b = np.arange(100, 100+n*m).reshape(n,m)\n",
    "print('a = ', a, '', sep='\\n')\n",
    "print('b = ', b, '', sep='\\n')\n",
    "\n",
    "c = np.hstack([a,b])\n",
    "print('c = ', c, '', sep='\\n')\n",
    "\n",
    "d = np.vstack([a,b])\n",
    "print('d = ', d, '', sep='\\n')\n",
    "\n",
    "e = np.hstack([a]*5)\n",
    "print('e = ', e, sep='\\n')"
   ]
  },
  {
   "cell_type": "markdown",
   "metadata": {},
   "source": [
    "### Задание 1 ###\n",
    "Напишите функцию __snake1(n,m)__, которая возвращает матрицу $n \\times m$, заполненную следующим образом (пример для $n=4$, $m=3$):\n",
    "\n",
    "    [[1,2,3],\n",
    "    [6,5,4],\n",
    "    [7,8,9],\n",
    "    [12,11,10]]"
   ]
  },
  {
   "cell_type": "code",
   "execution_count": 26,
   "metadata": {},
   "outputs": [
    {
     "name": "stdout",
     "output_type": "stream",
     "text": [
      "[[1, 2, 3], [6, 5, 4], [7, 8, 9], [12, 11, 10]]\n"
     ]
    }
   ],
   "source": [
    "def snake1(x, y):\n",
    "    arr =  [[ i + 1 + y * j for i in range(y)][::pow(-1, j)] for j in range(x)]\n",
    "    print(arr)\n",
    "\n",
    "#a, b = map(int, input().split())\n",
    "snake1(4, 3)"
   ]
  },
  {
   "cell_type": "markdown",
   "metadata": {},
   "source": [
    "### Задание 2 ###\n",
    "Напишите функцию __snake2(n)__, которая возвращает матрицу $n \\times n$, заполненную следующим образом (пример для $n=4$):\n",
    "\n",
    "    [[1,2,9,10],\n",
    "    [4,3,8,11],\n",
    "    [5,6,7,12],\n",
    "    [16,15,14,13]]"
   ]
  },
  {
   "cell_type": "code",
   "execution_count": 34,
   "metadata": {},
   "outputs": [
    {
     "name": "stdout",
     "output_type": "stream",
     "text": [
      "[[ 1.  4.  5. 16. 17.]\n",
      " [ 2.  3.  6. 15. 18.]\n",
      " [ 9.  8.  7. 14. 19.]\n",
      " [10. 11. 12. 13. 20.]\n",
      " [25. 24. 23. 22. 21.]]\n"
     ]
    }
   ],
   "source": [
    "def snake2(n):\n",
    "    arr= np.zeros((n, n))\n",
    "    half= n / 2\n",
    "    t = 1\n",
    "    cnt= n * n\n",
    "    \n",
    "    \n",
    "    while half!= 0:\n",
    "        for i in range(n - 1, -1 + t, -1):\n",
    "            if arr[n - t][n - 1 - i] == 0:\n",
    "                arr[n - t][n - 1 - i] = cnt\n",
    "                cnt-= 1\n",
    "        for i in range(0, n - t + 1):\n",
    "            if arr[n - t - i][n - t] == 0:\n",
    "                arr[n - t - i][n - t] = cnt\n",
    "                cnt-= 1\n",
    "        t += 1\n",
    "        for i in range(0, n - t + 1):\n",
    "            if arr[i][n - t] == 0:\n",
    "                arr[i][n - t] = cnt\n",
    "                cnt-= 1\n",
    "        for i in range(n - t, -1, -1):\n",
    "            if arr[n - t][i] == 0:\n",
    "                arr[n - t][i] = cnt\n",
    "                cnt-= 1\n",
    "        t += 1\n",
    "        half= half/ 2\n",
    "\n",
    "    print (arr)\n",
    "\n",
    "\n",
    "snake2(5)"
   ]
  },
  {
   "cell_type": "markdown",
   "metadata": {},
   "source": [
    "### Задание 3 ###\n",
    "Напишите функцию __snake3(n,m)__, которая возвращает матрицу $n \\times m$, заполненную следующим образом (пример для $n=4$, $m=5$):\n",
    "\n",
    "    [[1,2,3,4,5],\n",
    "    [14,15,16,17,6],\n",
    "    [13,20,19,18,7],\n",
    "    [12,11,10,9,8]]"
   ]
  },
  {
   "cell_type": "code",
   "execution_count": 35,
   "metadata": {},
   "outputs": [
    {
     "name": "stdout",
     "output_type": "stream",
     "text": [
      "[[1, 2, 3, 4, 5], [14, 15, 16, 17, 6], [13, 20, 19, 18, 7], [12, 11, 10, 9, 8]]\n"
     ]
    }
   ],
   "source": [
    "def snake3(n, m):\n",
    "    aX = aY = 0\n",
    "\n",
    "    bX = m-1\n",
    "    bY = n-1\n",
    "    k = 1\n",
    "    array = [[0 for i in range(m)] for j in range(n)]\n",
    "    while k <= n * m:\n",
    "        x = aX\n",
    "        y = aY\n",
    "        for x in range(aX, bX + 1):\n",
    "            array[y][x] = k\n",
    "            k+=1\n",
    "        aY+=1\n",
    "        if k <= n * m:\n",
    "            for y in range(aY, bY + 1):\n",
    "                array[y][x] = k\n",
    "                k+= 1\n",
    "            bX = bX - 1\n",
    "        if k <= n * m:\n",
    "            for x in range(bX, aX - 1,-1):\n",
    "                array[y][x] = k\n",
    "                k+= 1\n",
    "            bY = bY - 1\n",
    "        if k <= n * m:\n",
    "            for y in range(bY, aY - 1,-1):\n",
    "                array[y][x] = k\n",
    "                k+= 1\n",
    "            aX+= 1\n",
    "\n",
    "    print(array)\n",
    "\n",
    "\n",
    "snake3(4,5)"
   ]
  },
  {
   "cell_type": "markdown",
   "metadata": {},
   "source": [
    "### Задание 4 ###\n",
    "Напишите функцию __paraboloid(n)__, которая возвращает матрицу размера $2n + 1 \\times 2n +1$,\n",
    "для которой значение в ячейке [i,j] равняется расстоянию от точки с координатами (n,n) до точки с координатами (i,j)"
   ]
  },
  {
   "cell_type": "code",
   "execution_count": 29,
   "metadata": {},
   "outputs": [
    {
     "name": "stdout",
     "output_type": "stream",
     "text": [
      "[[12.72792206 12.04159458 11.40175425 10.81665383 10.29563014  9.8488578\n",
      "   9.48683298  9.21954446  9.05538514]\n",
      " [12.04159458 11.3137085  10.63014581 10.          9.43398113  8.94427191\n",
      "   8.54400375  8.24621125  8.06225775]\n",
      " [11.40175425 10.63014581  9.89949494  9.21954446  8.60232527  8.06225775\n",
      "   7.61577311  7.28010989  7.07106781]\n",
      " [10.81665383 10.          9.21954446  8.48528137  7.81024968  7.21110255\n",
      "   6.70820393  6.32455532  6.08276253]\n",
      " [10.29563014  9.43398113  8.60232527  7.81024968  7.07106781  6.40312424\n",
      "   5.83095189  5.38516481  5.09901951]\n",
      " [ 9.8488578   8.94427191  8.06225775  7.21110255  6.40312424  5.65685425\n",
      "   5.          4.47213595  4.12310563]\n",
      " [ 9.48683298  8.54400375  7.61577311  6.70820393  5.83095189  5.\n",
      "   4.24264069  3.60555128  3.16227766]\n",
      " [ 9.21954446  8.24621125  7.28010989  6.32455532  5.38516481  4.47213595\n",
      "   3.60555128  2.82842712  2.23606798]\n",
      " [ 9.05538514  8.06225775  7.07106781  6.08276253  5.09901951  4.12310563\n",
      "   3.16227766  2.23606798  1.41421356]]\n"
     ]
    }
   ],
   "source": [
    "def paraboloid(n):\n",
    "    arr = np.zeros((2*n + 1,2*n + 1))\n",
    "    for i in range(2 * n + 1):\n",
    "        for j in range(2 * n + 1):\n",
    "            arr[i][j] = math.sqrt(((2 * n + 1 - i)** 2)  + ((2 * n + 1 - j)** 2))\n",
    "    print(arr)\n",
    "\n",
    "paraboloid(4)"
   ]
  },
  {
   "cell_type": "markdown",
   "metadata": {},
   "source": [
    "### Задание 5 ###\n",
    "Напишите функцию __chess_queen(n,m,i,j)__, которая возвращает матрицу размера $n \\times m$, \n",
    "заполненную 0 и 1 по следующему правилу: \n",
    "\n",
    "Предположим, мы имеем шахматную доску размером $n \\times m$ и в ячейке $(i,j)$ стоит ферзь. Клетки нумеруются с $0$ из левого верхнего угла.\n",
    "\n",
    "В клетку $(i,j)$ необходимо поставить 2. Необходимо поставить $1$ на все клетки, куда ферзь может ударить. В остальные клетки необходимо поставить $0$.\n",
    "\n",
    "Пример __chess_queen(3,4,2,2)__:\n",
    "\n",
    "    [[1,0,1,0],\n",
    "    [0,1,1,1],\n",
    "    [1,1,2,1]]"
   ]
  },
  {
   "cell_type": "code",
   "execution_count": 33,
   "metadata": {},
   "outputs": [
    {
     "name": "stdout",
     "output_type": "stream",
     "text": [
      "[[1. 0. 1. 0.]\n",
      " [0. 1. 1. 1.]\n",
      " [1. 1. 2. 1.]\n",
      " [0. 1. 1. 0.]]\n"
     ]
    }
   ],
   "source": [
    "def chess_queen(n,m,x,y):\n",
    "    arr = np.zeros((n, m))\n",
    "    for i in range (0, n):\n",
    "        arr[i][y] = 1\n",
    "    for i in range (0, m):\n",
    "        arr[x][i] = 1\n",
    "    for i in range (i - 1, -1, -1):\n",
    "        arr[i][i] = 1\n",
    "    for i in range (1, i + 2):\n",
    "        if x + x < n and y + i < m:\n",
    "            arr[i + i][y + x] = 1\n",
    "        else:\n",
    "            break\n",
    "    for i in range (1, i + 2):\n",
    "        if x - i >= 0 and y + i < m:\n",
    "            arr[x - i][y + i] = 1\n",
    "        else:\n",
    "            break\n",
    "    for i in range (1, i + 2):\n",
    "        if i + x < n and y - i >= 0:\n",
    "            arr[x + i][y - i] = 1\n",
    "        else:\n",
    "            break\n",
    "    arr[x][y] = 2\n",
    "    return(arr)\n",
    "print(chess_queen(4,4,2,2))"
   ]
  },
  {
   "cell_type": "markdown",
   "metadata": {},
   "source": [
    "### Задание 6 ###\n",
    "Напишите функцию __generate(a,b,c)__, которая получает на вход три матрицы:\n",
    "\n",
    "Матрица __a__ -- произвольная матрица из $0$ и $1$ имеющая размер $n \\times m$\n",
    "\n",
    "Матрицы __b__ и __c__ -- произвольные матрицы имеющие __одинаковый размер__ $p \\times q$.\n",
    "\n",
    "Функция должна вернуть матрицу размера  $np \\times mq$, построенную по следующему правилу:\n",
    "\n",
    "Вместо $0$ матрицы __a__ подставляется матрица __b__, вместо $1$ матрицы __a__ подставляется матрица __с__.\n",
    "\n",
    "Пример:\n",
    "    \n",
    "    a = np.array([[1,1,0],\n",
    "                  [0,1,1]])\n",
    "                  \n",
    "    b = np.array([[1,2],\n",
    "                  [3,4]])\n",
    "                  \n",
    "    c = np.array([[3,3],\n",
    "                  [3,3]])\n",
    "    \n",
    "    generate(a,b,c) ->\n",
    "    [[3,3,3,3,1,2]\n",
    "     [3,3,3,3,3,4]\n",
    "     [1,2,3,3,3,3]\n",
    "     [3,4,3,3,3,3]]"
   ]
  },
  {
   "cell_type": "code",
   "execution_count": 1,
   "metadata": {},
   "outputs": [
    {
     "ename": "IndentationError",
     "evalue": "expected an indented block (<ipython-input-1-d7b0daaf69e0>, line 14)",
     "output_type": "error",
     "traceback": [
      "\u001b[1;36m  File \u001b[1;32m\"<ipython-input-1-d7b0daaf69e0>\"\u001b[1;36m, line \u001b[1;32m14\u001b[0m\n\u001b[1;33m    b = ... # NumPy array\u001b[0m\n\u001b[1;37m    ^\u001b[0m\n\u001b[1;31mIndentationError\u001b[0m\u001b[1;31m:\u001b[0m expected an indented block\n"
     ]
    }
   ],
   "source": [
    "a = np.array([[1,1,0],\n",
    "              [0,1,1]])\n",
    "                  \n",
    "b = np.array([[1,2],\n",
    "              [3,4]])\n",
    "                  \n",
    "c = np.array([[3,3],\n",
    "              [3,3]])\n",
    "\n",
    "#print(a)\n",
    "\n",
    "def generate(a,b,c):\n",
    "    while ...:\n",
    "    b = ... # NumPy array\n",
    "    a.append(b)\n",
    "a = np.asarray(a)\n",
    "    \n",
    "    for x in range (len(a)):\n",
    "        #print(x,\"    = = = = = =\")\n",
    "        for y in range(len(a[x])):\n",
    "            print(result[x][y])\n",
    "            if result[x][y]==0:\n",
    "                result[x][y]=b\n",
    "            else:\n",
    "                result[x][y]=c\n",
    "            \n",
    "            #print(result[x][y])\n",
    "    \n",
    "    \n",
    "   \n",
    "    return result\n",
    "generate(a,b,c)\n",
    "#print())"
   ]
  },
  {
   "cell_type": "code",
   "execution_count": null,
   "metadata": {},
   "outputs": [],
   "source": []
  },
  {
   "cell_type": "code",
   "execution_count": null,
   "metadata": {},
   "outputs": [],
   "source": []
  }
 ],
 "metadata": {
  "kernelspec": {
   "display_name": "Python 3",
   "language": "python",
   "name": "python3"
  },
  "language_info": {
   "codemirror_mode": {
    "name": "ipython",
    "version": 3
   },
   "file_extension": ".py",
   "mimetype": "text/x-python",
   "name": "python",
   "nbconvert_exporter": "python",
   "pygments_lexer": "ipython3",
   "version": "3.7.4"
  }
 },
 "nbformat": 4,
 "nbformat_minor": 4
}
